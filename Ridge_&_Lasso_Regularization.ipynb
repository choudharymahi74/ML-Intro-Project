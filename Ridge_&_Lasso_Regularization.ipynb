{
  "nbformat": 4,
  "nbformat_minor": 0,
  "metadata": {
    "colab": {
      "provenance": [],
      "toc_visible": true,
      "include_colab_link": true
    },
    "kernelspec": {
      "name": "python3",
      "display_name": "Python 3"
    },
    "language_info": {
      "name": "python"
    }
  },
  "cells": [
    {
      "cell_type": "markdown",
      "metadata": {
        "id": "view-in-github",
        "colab_type": "text"
      },
      "source": [
        "<a href=\"https://colab.research.google.com/github/choudharymahi74/ML-Intro-Project/blob/main/Ridge_%26_Lasso_Regularization.ipynb\" target=\"_parent\"><img src=\"https://colab.research.google.com/assets/colab-badge.svg\" alt=\"Open In Colab\"/></a>"
      ]
    },
    {
      "cell_type": "markdown",
      "source": [
        "*objective* : To understand ridge and lasso regression"
      ],
      "metadata": {
        "id": "8H8sawJfgsnJ"
      }
    },
    {
      "cell_type": "markdown",
      "source": [
        "[Ridge Regression](https://www.youtube.com/watch?v=Q81RR3yKn30)\n",
        "\n",
        "[Lasso Regression](https://www.youtube.com/watch?v=NGf0voTMlcs)\n",
        "\n",
        "**Regularization Technique**\n",
        "\n",
        "Ridge Regression uses L2 regularization, which adds a penalty equal to the square of the magnitude of coefficients to the loss function. This means that while Ridge regression shrinks the coefficients towards zero, it does not set any coefficients exactly to zero, thus retaining all predictors in the model.\n",
        "\n",
        "Lasso Regression employs L1 regularization, which adds a penalty equal to the absolute value of the coefficients. This characteristic allows Lasso to set some coefficients exactly to zero, effectively performing feature selection and simplifying the model by excluding less important predictors.\n",
        "\n",
        "***L1 regularization:***\n",
        "L1 Regularization, adds the “absolute value of magnitude” of the coefficient as a penalty term to the loss function.\n",
        "\n",
        "**L2 regularization:**\n",
        "L2 Regularization, adds the “squared magnitude” of the coefficient as the penalty term to the loss function."
      ],
      "metadata": {
        "id": "d6PkSpKNg6Bh"
      }
    },
    {
      "cell_type": "markdown",
      "source": [
        "While \"Ridge\" is associated with \"L2\" regularization and \"Lasso\" is associated with \"L1\" regularization, they are not the same thing; \"Ridge\" and \"Lasso\" are specific regression techniques that use L2 and L1 regularization respectively, meaning they are different methods that apply the distinct penalty calculations of L1 and L2 to shrink model coefficients and prevent overfitting."
      ],
      "metadata": {
        "id": "SSQ-qojAiRLu"
      }
    },
    {
      "cell_type": "markdown",
      "source": [
        "LOSS FUNCTION IN RIDGE REGRESSION:\n",
        "\n",
        "Ridge regression adds the “squared magnitude” of the coefficient as the penalty term to the loss function.\n",
        "\n",
        "*The highlighted part below represents the L2 regularization element.*\n",
        "\n",
        "![image.png](data:image/png;base64,iVBORw0KGgoAAAANSUhEUgAAAPAAAABMCAIAAADcP63LAAAP7UlEQVR4Ae2dvWvjSBTA35+h1pDiAlvYcEVUriBFBFucIcUJUgSzRTBbHCKFEWmCuSKIFMFcEUyKgF0EnCLgLQLaJqAUC0qx4CsCcrGFixQqUqhIoWNGkjWSJXlGlhxrT8ZgeTwfT0+/eXrz5ikBp3pVGkjUADjO6u/E3ov4AYrotOpzYzSwOo5F9FCgeiqgC1Tuersugrz19Jmnniqg89Tmu/a1HvgKGiU3zVVA56bK9+6oINTW1m0++quAzkePG9DL2sgrbqActFgBnYMSN6OL4jhbc88rqbMCeiX1bVLjNWNX3HArKbUCeiX1bVLj4ghbf8/Z9VoBnV13G9Zy/dgVN2J21VZAZ9fdhrUsDq/195xdtRXQ2XW3YS3Xj11xI2ZXbQV0dt1tWMvi8Fp/z9lV+0sCbfT2+QYniH+2up0W/3lkZtdPiVrmht34CzTqIP4JyimIe6C/5tYzS6pTRs2nAW1/V5s7jdp+u/2l2z9t1r6MrYyjrLfZU08678rAdR8d5+egCQ31ab0CvM9oOWH3AnIHurvQHKIOuwDtu5x6Zkvcy6jEFKBt7aSl/t2GuqK/Os6DAlzXyDjK2ps9djloo/n3oAAI/ee1C/AOA+aH3U9oAqhP4EzRgXyfX88MTGfUYArQqEf9lIMT3XEc46zBdTQ74yjrbmZeCvDHwHTFPirJjWVVJeWGnX0PAKA7YN0C7IDBQGFuMmRWRjrQZn8XpJuZY2sKxylXg/ZJKZieDfaB22p1L2Txc3/ymlk55WqYG0z6KQAHygVIn0B7ya1bFgc6Hcu065La8nXcBhHdr21d2Wrwe63RNK2vTfnNGrddB3pTBFqPHLmRp9Y9B5oRwdwE8MfNordUoLN0+O5tJuO/RA4a0sn4/xHcmCs8H570C+ABxCMw3ie4QZ7F/NQYDn49oBlO/teqSqLwaxxnuT4V0Fm0tpFtfg2IybPIomYM9Muohda16MV9EITdlDdf8yr6HziYkGXkHNpYo0NfDG47VWyB3/Jrep/NQSnWAwxaIlGgOjbOAp3wuyCkvD8ENd0j5YFqCN8bzlaZ4eTnVT0LbQ4lzpV0tzeZ/5h0YFvm06h3JGK433XbYjrw5RZ6/yaJOy+3rakxumiLGO7G+eZF1aej9mG79XFbPM6wAGCH5hW6Ox6p7a/Lm9sz0IYguXB/Bmsd4bz5taM9mLsc1vjIQ5o7po7NzcbKRw7eNdBr3bV9uWWNMkL3NhufCN7OC62i1lDPGh+1Ri+O89wXAcQr1jXtciJj7OUTWgK6r/4zbQ+TK6gB9H7Q1o8Zl3YyMKt9DrTjvOr+fOXke+otlFddqUdu35bWaSr3a9smt/VT76IwTEXH1k8azWtWaJj1m9LAHErNc4NQtN4F4C8mjmMO/gB2M5ERL3MInkXYA5OWMzCvAU6iIxp/g/ItWkhF8wyk+NFT9Bf/EwG049jfu/58xeHn+CbRUnuq688BvsY5z5/qtuNYd7Kw6/nctR2hfTtzW87u2ttYhWRhtFOm77bhT0UWw/Zq6g9mILc/Iik29wGL/TKWP7gXvcbvtvo/CAj9Vouf5tdu+0BWjpv8jjx+WfzdcRx0VyQtsfVDm6CaaD8rF6CNSxyDOwM7ldTRgWekuc6SmiSdk28wewvhq5/G7ZO/wfgUpGOQ94E/TnBUfkJzN3Y6xeotrTAENNLl3Jne62cxX899kWsT188aHyFlte8IcpBR55WvHt9p0tH/FjjTDFMxuXtb6yCCW7ee2OZ1s3bY06lFNoet1oXhNtZPAD6PiPMnhkXeRXPwkyhxHPtBaWwt3cOyjeGANO8kauSx1kH6H0xD5JEV0DHhTK+SuREL9OAQet+90RWk0jhJigMa3e8OvFsQd4qyOFheiIPGCTLP85d9LyONBn62OTgQlFuTrDOvvMpBMBW5LqvcMeM+qQ0ANyHEfuwKByxb6M99cb/vnyGe0klAOyhQ00Buhv+aDlp7ihZv0f066HM22I8kXcWB4oDziDwK4TLhV99y24+BMz34uaRydD74nSwCbV5C89K3+ha03wNo5EwrdfcexOJMO45jazJA+2uYVVwIbu6bY+ungnQ5Cdcgr9Mqx8gt9uSmX9cmDmj29wCgoVyq4kcawuYd2VqHl+dLiOmgCbzyLd5Ao1vidRN+U72Ay3TQOsQz57kvLDmFRaCdJM7UOsDvMPGxS6qG3GL3Fe/OLqc8CrQNyk6QDYL6J76GxEi00FEPYq7lpIP4Bvbj3JnG6+6k1pFyZNUiZgNj7t++zaEkdLTEaxvpLcPXYF0beAsZunGbWLc4Ol+Xx9SeBm5oqPX24EbGMU2O46B1ndr+sQue1zHp+UE0QDY13eNjANo4R5zSBCUGvjPdOF+Ob4hIPFuiQD9B4wuM/sKzhEM3ikTbXzTQyHJciv58pXWmrbs2ssQLsTP7m4KcGI6rRW7cr5aVu63GMS8s+crOtNeVHBPFfLNDopNfn/vC/mDm2BZ+TS5F+D0U2g+3dBxkwrfZH0FgANp5BgEATikYfQXZ8zfjlnfLbHwEaORvDMGxwbLQu78HjQtChjdU6M2KNQBNOtPiEmvhGcHZEKWDx1x+R1cAoB5Z7BvqFif8Q7iPuJvZt556pia9Rz+8sVI+Amc627rW7fpV734Um5/Q5Q2taPGvxlmN+xhgapxvw473dXYjhdSFDDAxtZ7UbeB75FmgZ2qAJk46uSHVokh1EI/IktEkHHOYW1CUDopf+jIiHQcCZ5oDjTE/KQL06ADI2DYSg3Bm0H1jx3eE1gK047xqeL5ykr9gT8EIrVOSgEZGCODLOHdznCCPrR3jW8JBz1i+uortA69c7y2HWBrG1lsotLXjRvcxOFF814rGMUKtqIEOtYpZFMb70PopcAcwwl4H5X61eYnx34FRemxkYXqEgLZBroNu+zbYARTv2ofZQis08dYEtGMO9oGn9npxQCPG5cAXFZpDwpWcjlp7fGOnGw48hS/ZCt/QSmuHaSVHDmaODrf9lau3NCRsqjn6LPJ1vvsdU4s2q+X2nqC6Xx2jy5H4oiAGd4CenXEcc3TUko9E4Sx80mi2h+YAKUryMZXLoXUQzZNXTAwAHPsBh1iq/EL7ARoc9P8NWJwb+/SDENDfgSPxfYEWgISfU3Sm0D6E9h6ofjhvPUCjHTgu4vUmKxj9Er8odFAglrztOuhpxcGV/9hfep/sv6IVLSf1/w3MJEMfb7NxhxeJDTx82wH3OTS0wr1XWtd9JDqKrM9GR/L4xVDrvs/w3BcAlAdvQPO23dhquZLMbtryV8s4b0AkfBEsChnEjAvbRS30+EsoquAmco3nbquPb5TRKUgcKJmeIySBds383MkZHUHtEE8tB0ZHMH4BrDR/zhRvoW3jXKyx3rIXwnbmdUvYFfC+ILf9UWgN5yt3vHMRubRMFzShsv2kiltS7zt7KOVlLHuiAmxJbi6e9VURgj1CQX1Eo+I1LrFUQBB7m//Ige6o8h7fPFblz2LrdBDei0FbgJH9dnQz2euxBzKXWOjJBXqMCltZD3TrDsUZ4vc15nBPob0Dyi2VIY/OBAdIoEcHoJyBuAPyGbQ+QXcY3lbE69Rgu6dooNG6KsstG2OKH6pN4M0vdh9SvOi3znPYA/E7RREDieMLTiNB58h1ev3Pqv6GRp7dSFB3A8m2diyoT8l3htlIiv5NBeSTiBfsPDuz0QGx1vRU4Bs8vPnnxxACy23jaMMiiF4J3i+U5vsgc8qpDwKgbZB3wSAc6MigsxuAOvH4baFAr3TLflJ5bw8lwCzmqIiHFFEQmvN935gxcyqy9ZNaY0ds3bh3G1s7njskRncrLeMPrzGU0AzGmQIowy6fFwF0QGEAdISqyNfBAfCdhFyLoLfYIbzCAOjvUEv117HSiK6KAxpt825J/R/0t2xbO+aVh7lZso2/efY985WvJ4qy1aTLCYPc9zIf3qVnFMI2H7XJFD0P3/6Kh33uCwlb3PZU136YyLSH/liPNT6qSYEbxjh+THUCkQBBKqBHh4jmSLJRhPjQ12cQ96PpRHOgzctE38Z8hMkUFA5CGdhFAc1+yzavJc79SzSBfi2tI9AEVoMWqx6h/BP6aAwaDZ1pg5iH7BJYY3kLuC2eIqZpjf+qAVfj/+x5+Up4NDKBiX34pBaLTC8H2g3toWBIMA1Sjy30ZEDzOlpnefqoBVhpIF2EbwWJ6aPxO9lJJ++eqv/ri6aw3LLtn1rvEGWbCkRMwO9rnZ+W1mGJxtgz7aKF5N5Vw/Gzdcpc3FhRyPBIi4VByeQSuKQUi0W+38C4BRHvJo7W9Cc72HTlzwCcBbF9oI6/aVraezy4UNXjlr/2R/G4Hl1+MJtctLVxdv9vknqXLrY2HvbUM7n10c3ERhsHmZZitGK9X72AVN/cplloN7tfHoL2LfV9C+oZtPfRgyruizsKm9hF9HMrYdOlC3SQMuoLTP257+4asI2aV+1gl5taXr9i5CmbvCR6935igY5nOtjl9pVC/0m56ehPqkWp6EvYVOpbaLZWVe2N1UAsKPFA50Fb7HD5FrKpugKaTV8bXztfmDahNzaVLwBNl9IZzYFkG7So2jRS0dQpSr519JsdQdsCOyFfL7Dlb2DRB0PycaPZtBYBOj6lk+jS0q9U5ZDnFp6EI+q80+FiZmZIkA2WPCTnil+yAv0CrUhsOILjM6gnIH6gy6uOtF3pK5tCIkDTNc6YT0PXeaG1yis5rVqyAk3H3GC/REDTp3RuHBYJmZmLEGyc5IsirliSBWj9DOQvKBsuPlmZYL1EQIdSOu2fRlw0Wvf+jMWGYUFmZlqlknxFeOOaswP9CNI/YN0B4L+MMYkNSD953ZYIaP9pVpqUzg0DGl/XmMzMmOu9iZLHiLlCETvQ2ABHs4UIqxysCB0oFdBESqf9Y9y/6i+8B94TTRuIhZ+ZWT7JV4A3rmlGoPEjC6itfgX9xfe9lyFdLqCp/u+EeaeqRyJAQ+qo/Uf65LY45edXFpOZudD5Zkq+IOaKBZmAjqTbx5pnC/pnINXRg67qWTTPjrTieR+zKSRTlINtiGJrJ2RmFjvoBvfOCPQLaI9gXBEPYMfS/J6FbMouO9DxmZlsOvilarMBPfkHPZe1/Yn5Ae+8zXCK2GyXp+xAs53t/6B2Chkl/YntolVAs+lr42uXlNoUsdlUXgHNpq+Nr51CRkl/YlN5BTSbvja+dkmpTRGbTeUV0Gz62vjaKWSU9Cc2lVdAs+mrDLVLCm6S2Gwqr4Bm01dJaifBUcZyNpVXQLPpq2y1iyY4oo8ch4v0TPu1AppWU79KvczMlUMBFdDluE6VlJQaqICmVFRVrRwaqIAux3WqpKTUQAU0paKqauXQQAV0Oa5TJSWlBiqgKRVVVSuHBiqgy3GdKikpNVABTamoqlo5NFABXY7rVElJqYEKaEpFVdXKoYEK6HJcp0pKSg38BxsRSvBF8wtSAAAAAElFTkSuQmCC)\n",
        "\n",
        "Here, if lambda is zero then you can imagine we get back OLS(ordinary least squares). However, if lambda is very large then it will add too much weight and lead to underfitting. Having said that, how we choose lambda is important. This technique works very well to avoid overfitting issues."
      ],
      "metadata": {
        "id": "q4OOhFozj_GF"
      }
    },
    {
      "cell_type": "markdown",
      "source": [
        "LOSS FUNCTION IN LASSO REGRESSION:\n",
        "\n",
        "Lasso is an acronym for least absolute shrinkage and selection operator, and lasso regression adds the “absolute value of magnitude” of the coefficient as a penalty term to the loss function.\n",
        "\n",
        "![image.png](data:image/png;base64,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)\n",
        "\n",
        "Again, if lambda is zero, then we'll get back OLS (ordinary least squares) whereas a very large value will make coefficients zero, which means it will become underfit."
      ],
      "metadata": {
        "id": "sDJaUtoBketg"
      }
    },
    {
      "cell_type": "markdown",
      "source": [
        "# **SIMPLE LINEAR REGRESSION**"
      ],
      "metadata": {
        "id": "oj-mIK9ZspgC"
      }
    },
    {
      "cell_type": "code",
      "execution_count": null,
      "metadata": {
        "id": "nR6UlPqVj-Nk"
      },
      "outputs": [],
      "source": [
        "#importing libraries\n",
        "import pandas as pd"
      ]
    },
    {
      "cell_type": "code",
      "source": [
        "import numpy as np\n",
        "import matplotlib.pyplot as ply"
      ],
      "metadata": {
        "id": "wE22rcdjlJGx"
      },
      "execution_count": null,
      "outputs": []
    },
    {
      "cell_type": "code",
      "source": [
        "from sklearn.datasets import fetch_california_housing #importing dataset"
      ],
      "metadata": {
        "id": "l-1BjtPLkcDG"
      },
      "execution_count": null,
      "outputs": []
    },
    {
      "cell_type": "code",
      "source": [
        "fetch_california_housing() #loading data"
      ],
      "metadata": {
        "colab": {
          "base_uri": "https://localhost:8080/"
        },
        "id": "1MbPoeGolYC0",
        "outputId": "b8c05032-fd83-41dd-8d2a-64f127af7b01"
      },
      "execution_count": null,
      "outputs": [
        {
          "output_type": "execute_result",
          "data": {
            "text/plain": [
              "{'data': array([[   8.3252    ,   41.        ,    6.98412698, ...,    2.55555556,\n",
              "           37.88      , -122.23      ],\n",
              "        [   8.3014    ,   21.        ,    6.23813708, ...,    2.10984183,\n",
              "           37.86      , -122.22      ],\n",
              "        [   7.2574    ,   52.        ,    8.28813559, ...,    2.80225989,\n",
              "           37.85      , -122.24      ],\n",
              "        ...,\n",
              "        [   1.7       ,   17.        ,    5.20554273, ...,    2.3256351 ,\n",
              "           39.43      , -121.22      ],\n",
              "        [   1.8672    ,   18.        ,    5.32951289, ...,    2.12320917,\n",
              "           39.43      , -121.32      ],\n",
              "        [   2.3886    ,   16.        ,    5.25471698, ...,    2.61698113,\n",
              "           39.37      , -121.24      ]]),\n",
              " 'target': array([4.526, 3.585, 3.521, ..., 0.923, 0.847, 0.894]),\n",
              " 'frame': None,\n",
              " 'target_names': ['MedHouseVal'],\n",
              " 'feature_names': ['MedInc',\n",
              "  'HouseAge',\n",
              "  'AveRooms',\n",
              "  'AveBedrms',\n",
              "  'Population',\n",
              "  'AveOccup',\n",
              "  'Latitude',\n",
              "  'Longitude'],\n",
              " 'DESCR': '.. _california_housing_dataset:\\n\\nCalifornia Housing dataset\\n--------------------------\\n\\n**Data Set Characteristics:**\\n\\n    :Number of Instances: 20640\\n\\n    :Number of Attributes: 8 numeric, predictive attributes and the target\\n\\n    :Attribute Information:\\n        - MedInc        median income in block group\\n        - HouseAge      median house age in block group\\n        - AveRooms      average number of rooms per household\\n        - AveBedrms     average number of bedrooms per household\\n        - Population    block group population\\n        - AveOccup      average number of household members\\n        - Latitude      block group latitude\\n        - Longitude     block group longitude\\n\\n    :Missing Attribute Values: None\\n\\nThis dataset was obtained from the StatLib repository.\\nhttps://www.dcc.fc.up.pt/~ltorgo/Regression/cal_housing.html\\n\\nThe target variable is the median house value for California districts,\\nexpressed in hundreds of thousands of dollars ($100,000).\\n\\nThis dataset was derived from the 1990 U.S. census, using one row per census\\nblock group. A block group is the smallest geographical unit for which the U.S.\\nCensus Bureau publishes sample data (a block group typically has a population\\nof 600 to 3,000 people).\\n\\nA household is a group of people residing within a home. Since the average\\nnumber of rooms and bedrooms in this dataset are provided per household, these\\ncolumns may take surprisingly large values for block groups with few households\\nand many empty houses, such as vacation resorts.\\n\\nIt can be downloaded/loaded using the\\n:func:`sklearn.datasets.fetch_california_housing` function.\\n\\n.. topic:: References\\n\\n    - Pace, R. Kelley and Ronald Barry, Sparse Spatial Autoregressions,\\n      Statistics and Probability Letters, 33 (1997) 291-297\\n'}"
            ]
          },
          "metadata": {},
          "execution_count": 4
        }
      ]
    },
    {
      "cell_type": "code",
      "source": [
        "df=fetch_california_housing() #saving data in df"
      ],
      "metadata": {
        "id": "i9ODAu30p40U"
      },
      "execution_count": null,
      "outputs": []
    },
    {
      "cell_type": "code",
      "source": [
        "pd.DataFrame(df.data) #converting data into dataframe"
      ],
      "metadata": {
        "colab": {
          "base_uri": "https://localhost:8080/",
          "height": 423
        },
        "id": "SIE66IBVrbfL",
        "outputId": "f6024e37-39b2-4333-b5e1-1626e3f13b66"
      },
      "execution_count": null,
      "outputs": [
        {
          "output_type": "execute_result",
          "data": {
            "text/plain": [
              "            0     1         2         3       4         5      6       7\n",
              "0      8.3252  41.0  6.984127  1.023810   322.0  2.555556  37.88 -122.23\n",
              "1      8.3014  21.0  6.238137  0.971880  2401.0  2.109842  37.86 -122.22\n",
              "2      7.2574  52.0  8.288136  1.073446   496.0  2.802260  37.85 -122.24\n",
              "3      5.6431  52.0  5.817352  1.073059   558.0  2.547945  37.85 -122.25\n",
              "4      3.8462  52.0  6.281853  1.081081   565.0  2.181467  37.85 -122.25\n",
              "...       ...   ...       ...       ...     ...       ...    ...     ...\n",
              "20635  1.5603  25.0  5.045455  1.133333   845.0  2.560606  39.48 -121.09\n",
              "20636  2.5568  18.0  6.114035  1.315789   356.0  3.122807  39.49 -121.21\n",
              "20637  1.7000  17.0  5.205543  1.120092  1007.0  2.325635  39.43 -121.22\n",
              "20638  1.8672  18.0  5.329513  1.171920   741.0  2.123209  39.43 -121.32\n",
              "20639  2.3886  16.0  5.254717  1.162264  1387.0  2.616981  39.37 -121.24\n",
              "\n",
              "[20640 rows x 8 columns]"
            ],
            "text/html": [
              "\n",
              "  <div id=\"df-26fd740c-02f1-4d6f-bd5b-3f33e31b94cf\" class=\"colab-df-container\">\n",
              "    <div>\n",
              "<style scoped>\n",
              "    .dataframe tbody tr th:only-of-type {\n",
              "        vertical-align: middle;\n",
              "    }\n",
              "\n",
              "    .dataframe tbody tr th {\n",
              "        vertical-align: top;\n",
              "    }\n",
              "\n",
              "    .dataframe thead th {\n",
              "        text-align: right;\n",
              "    }\n",
              "</style>\n",
              "<table border=\"1\" class=\"dataframe\">\n",
              "  <thead>\n",
              "    <tr style=\"text-align: right;\">\n",
              "      <th></th>\n",
              "      <th>0</th>\n",
              "      <th>1</th>\n",
              "      <th>2</th>\n",
              "      <th>3</th>\n",
              "      <th>4</th>\n",
              "      <th>5</th>\n",
              "      <th>6</th>\n",
              "      <th>7</th>\n",
              "    </tr>\n",
              "  </thead>\n",
              "  <tbody>\n",
              "    <tr>\n",
              "      <th>0</th>\n",
              "      <td>8.3252</td>\n",
              "      <td>41.0</td>\n",
              "      <td>6.984127</td>\n",
              "      <td>1.023810</td>\n",
              "      <td>322.0</td>\n",
              "      <td>2.555556</td>\n",
              "      <td>37.88</td>\n",
              "      <td>-122.23</td>\n",
              "    </tr>\n",
              "    <tr>\n",
              "      <th>1</th>\n",
              "      <td>8.3014</td>\n",
              "      <td>21.0</td>\n",
              "      <td>6.238137</td>\n",
              "      <td>0.971880</td>\n",
              "      <td>2401.0</td>\n",
              "      <td>2.109842</td>\n",
              "      <td>37.86</td>\n",
              "      <td>-122.22</td>\n",
              "    </tr>\n",
              "    <tr>\n",
              "      <th>2</th>\n",
              "      <td>7.2574</td>\n",
              "      <td>52.0</td>\n",
              "      <td>8.288136</td>\n",
              "      <td>1.073446</td>\n",
              "      <td>496.0</td>\n",
              "      <td>2.802260</td>\n",
              "      <td>37.85</td>\n",
              "      <td>-122.24</td>\n",
              "    </tr>\n",
              "    <tr>\n",
              "      <th>3</th>\n",
              "      <td>5.6431</td>\n",
              "      <td>52.0</td>\n",
              "      <td>5.817352</td>\n",
              "      <td>1.073059</td>\n",
              "      <td>558.0</td>\n",
              "      <td>2.547945</td>\n",
              "      <td>37.85</td>\n",
              "      <td>-122.25</td>\n",
              "    </tr>\n",
              "    <tr>\n",
              "      <th>4</th>\n",
              "      <td>3.8462</td>\n",
              "      <td>52.0</td>\n",
              "      <td>6.281853</td>\n",
              "      <td>1.081081</td>\n",
              "      <td>565.0</td>\n",
              "      <td>2.181467</td>\n",
              "      <td>37.85</td>\n",
              "      <td>-122.25</td>\n",
              "    </tr>\n",
              "    <tr>\n",
              "      <th>...</th>\n",
              "      <td>...</td>\n",
              "      <td>...</td>\n",
              "      <td>...</td>\n",
              "      <td>...</td>\n",
              "      <td>...</td>\n",
              "      <td>...</td>\n",
              "      <td>...</td>\n",
              "      <td>...</td>\n",
              "    </tr>\n",
              "    <tr>\n",
              "      <th>20635</th>\n",
              "      <td>1.5603</td>\n",
              "      <td>25.0</td>\n",
              "      <td>5.045455</td>\n",
              "      <td>1.133333</td>\n",
              "      <td>845.0</td>\n",
              "      <td>2.560606</td>\n",
              "      <td>39.48</td>\n",
              "      <td>-121.09</td>\n",
              "    </tr>\n",
              "    <tr>\n",
              "      <th>20636</th>\n",
              "      <td>2.5568</td>\n",
              "      <td>18.0</td>\n",
              "      <td>6.114035</td>\n",
              "      <td>1.315789</td>\n",
              "      <td>356.0</td>\n",
              "      <td>3.122807</td>\n",
              "      <td>39.49</td>\n",
              "      <td>-121.21</td>\n",
              "    </tr>\n",
              "    <tr>\n",
              "      <th>20637</th>\n",
              "      <td>1.7000</td>\n",
              "      <td>17.0</td>\n",
              "      <td>5.205543</td>\n",
              "      <td>1.120092</td>\n",
              "      <td>1007.0</td>\n",
              "      <td>2.325635</td>\n",
              "      <td>39.43</td>\n",
              "      <td>-121.22</td>\n",
              "    </tr>\n",
              "    <tr>\n",
              "      <th>20638</th>\n",
              "      <td>1.8672</td>\n",
              "      <td>18.0</td>\n",
              "      <td>5.329513</td>\n",
              "      <td>1.171920</td>\n",
              "      <td>741.0</td>\n",
              "      <td>2.123209</td>\n",
              "      <td>39.43</td>\n",
              "      <td>-121.32</td>\n",
              "    </tr>\n",
              "    <tr>\n",
              "      <th>20639</th>\n",
              "      <td>2.3886</td>\n",
              "      <td>16.0</td>\n",
              "      <td>5.254717</td>\n",
              "      <td>1.162264</td>\n",
              "      <td>1387.0</td>\n",
              "      <td>2.616981</td>\n",
              "      <td>39.37</td>\n",
              "      <td>-121.24</td>\n",
              "    </tr>\n",
              "  </tbody>\n",
              "</table>\n",
              "<p>20640 rows × 8 columns</p>\n",
              "</div>\n",
              "    <div class=\"colab-df-buttons\">\n",
              "\n",
              "  <div class=\"colab-df-container\">\n",
              "    <button class=\"colab-df-convert\" onclick=\"convertToInteractive('df-26fd740c-02f1-4d6f-bd5b-3f33e31b94cf')\"\n",
              "            title=\"Convert this dataframe to an interactive table.\"\n",
              "            style=\"display:none;\">\n",
              "\n",
              "  <svg xmlns=\"http://www.w3.org/2000/svg\" height=\"24px\" viewBox=\"0 -960 960 960\">\n",
              "    <path d=\"M120-120v-720h720v720H120Zm60-500h600v-160H180v160Zm220 220h160v-160H400v160Zm0 220h160v-160H400v160ZM180-400h160v-160H180v160Zm440 0h160v-160H620v160ZM180-180h160v-160H180v160Zm440 0h160v-160H620v160Z\"/>\n",
              "  </svg>\n",
              "    </button>\n",
              "\n",
              "  <style>\n",
              "    .colab-df-container {\n",
              "      display:flex;\n",
              "      gap: 12px;\n",
              "    }\n",
              "\n",
              "    .colab-df-convert {\n",
              "      background-color: #E8F0FE;\n",
              "      border: none;\n",
              "      border-radius: 50%;\n",
              "      cursor: pointer;\n",
              "      display: none;\n",
              "      fill: #1967D2;\n",
              "      height: 32px;\n",
              "      padding: 0 0 0 0;\n",
              "      width: 32px;\n",
              "    }\n",
              "\n",
              "    .colab-df-convert:hover {\n",
              "      background-color: #E2EBFA;\n",
              "      box-shadow: 0px 1px 2px rgba(60, 64, 67, 0.3), 0px 1px 3px 1px rgba(60, 64, 67, 0.15);\n",
              "      fill: #174EA6;\n",
              "    }\n",
              "\n",
              "    .colab-df-buttons div {\n",
              "      margin-bottom: 4px;\n",
              "    }\n",
              "\n",
              "    [theme=dark] .colab-df-convert {\n",
              "      background-color: #3B4455;\n",
              "      fill: #D2E3FC;\n",
              "    }\n",
              "\n",
              "    [theme=dark] .colab-df-convert:hover {\n",
              "      background-color: #434B5C;\n",
              "      box-shadow: 0px 1px 3px 1px rgba(0, 0, 0, 0.15);\n",
              "      filter: drop-shadow(0px 1px 2px rgba(0, 0, 0, 0.3));\n",
              "      fill: #FFFFFF;\n",
              "    }\n",
              "  </style>\n",
              "\n",
              "    <script>\n",
              "      const buttonEl =\n",
              "        document.querySelector('#df-26fd740c-02f1-4d6f-bd5b-3f33e31b94cf button.colab-df-convert');\n",
              "      buttonEl.style.display =\n",
              "        google.colab.kernel.accessAllowed ? 'block' : 'none';\n",
              "\n",
              "      async function convertToInteractive(key) {\n",
              "        const element = document.querySelector('#df-26fd740c-02f1-4d6f-bd5b-3f33e31b94cf');\n",
              "        const dataTable =\n",
              "          await google.colab.kernel.invokeFunction('convertToInteractive',\n",
              "                                                    [key], {});\n",
              "        if (!dataTable) return;\n",
              "\n",
              "        const docLinkHtml = 'Like what you see? Visit the ' +\n",
              "          '<a target=\"_blank\" href=https://colab.research.google.com/notebooks/data_table.ipynb>data table notebook</a>'\n",
              "          + ' to learn more about interactive tables.';\n",
              "        element.innerHTML = '';\n",
              "        dataTable['output_type'] = 'display_data';\n",
              "        await google.colab.output.renderOutput(dataTable, element);\n",
              "        const docLink = document.createElement('div');\n",
              "        docLink.innerHTML = docLinkHtml;\n",
              "        element.appendChild(docLink);\n",
              "      }\n",
              "    </script>\n",
              "  </div>\n",
              "\n",
              "\n",
              "<div id=\"df-8a0bb54d-66f6-4c09-b8b3-2ea2f000da18\">\n",
              "  <button class=\"colab-df-quickchart\" onclick=\"quickchart('df-8a0bb54d-66f6-4c09-b8b3-2ea2f000da18')\"\n",
              "            title=\"Suggest charts\"\n",
              "            style=\"display:none;\">\n",
              "\n",
              "<svg xmlns=\"http://www.w3.org/2000/svg\" height=\"24px\"viewBox=\"0 0 24 24\"\n",
              "     width=\"24px\">\n",
              "    <g>\n",
              "        <path d=\"M19 3H5c-1.1 0-2 .9-2 2v14c0 1.1.9 2 2 2h14c1.1 0 2-.9 2-2V5c0-1.1-.9-2-2-2zM9 17H7v-7h2v7zm4 0h-2V7h2v10zm4 0h-2v-4h2v4z\"/>\n",
              "    </g>\n",
              "</svg>\n",
              "  </button>\n",
              "\n",
              "<style>\n",
              "  .colab-df-quickchart {\n",
              "      --bg-color: #E8F0FE;\n",
              "      --fill-color: #1967D2;\n",
              "      --hover-bg-color: #E2EBFA;\n",
              "      --hover-fill-color: #174EA6;\n",
              "      --disabled-fill-color: #AAA;\n",
              "      --disabled-bg-color: #DDD;\n",
              "  }\n",
              "\n",
              "  [theme=dark] .colab-df-quickchart {\n",
              "      --bg-color: #3B4455;\n",
              "      --fill-color: #D2E3FC;\n",
              "      --hover-bg-color: #434B5C;\n",
              "      --hover-fill-color: #FFFFFF;\n",
              "      --disabled-bg-color: #3B4455;\n",
              "      --disabled-fill-color: #666;\n",
              "  }\n",
              "\n",
              "  .colab-df-quickchart {\n",
              "    background-color: var(--bg-color);\n",
              "    border: none;\n",
              "    border-radius: 50%;\n",
              "    cursor: pointer;\n",
              "    display: none;\n",
              "    fill: var(--fill-color);\n",
              "    height: 32px;\n",
              "    padding: 0;\n",
              "    width: 32px;\n",
              "  }\n",
              "\n",
              "  .colab-df-quickchart:hover {\n",
              "    background-color: var(--hover-bg-color);\n",
              "    box-shadow: 0 1px 2px rgba(60, 64, 67, 0.3), 0 1px 3px 1px rgba(60, 64, 67, 0.15);\n",
              "    fill: var(--button-hover-fill-color);\n",
              "  }\n",
              "\n",
              "  .colab-df-quickchart-complete:disabled,\n",
              "  .colab-df-quickchart-complete:disabled:hover {\n",
              "    background-color: var(--disabled-bg-color);\n",
              "    fill: var(--disabled-fill-color);\n",
              "    box-shadow: none;\n",
              "  }\n",
              "\n",
              "  .colab-df-spinner {\n",
              "    border: 2px solid var(--fill-color);\n",
              "    border-color: transparent;\n",
              "    border-bottom-color: var(--fill-color);\n",
              "    animation:\n",
              "      spin 1s steps(1) infinite;\n",
              "  }\n",
              "\n",
              "  @keyframes spin {\n",
              "    0% {\n",
              "      border-color: transparent;\n",
              "      border-bottom-color: var(--fill-color);\n",
              "      border-left-color: var(--fill-color);\n",
              "    }\n",
              "    20% {\n",
              "      border-color: transparent;\n",
              "      border-left-color: var(--fill-color);\n",
              "      border-top-color: var(--fill-color);\n",
              "    }\n",
              "    30% {\n",
              "      border-color: transparent;\n",
              "      border-left-color: var(--fill-color);\n",
              "      border-top-color: var(--fill-color);\n",
              "      border-right-color: var(--fill-color);\n",
              "    }\n",
              "    40% {\n",
              "      border-color: transparent;\n",
              "      border-right-color: var(--fill-color);\n",
              "      border-top-color: var(--fill-color);\n",
              "    }\n",
              "    60% {\n",
              "      border-color: transparent;\n",
              "      border-right-color: var(--fill-color);\n",
              "    }\n",
              "    80% {\n",
              "      border-color: transparent;\n",
              "      border-right-color: var(--fill-color);\n",
              "      border-bottom-color: var(--fill-color);\n",
              "    }\n",
              "    90% {\n",
              "      border-color: transparent;\n",
              "      border-bottom-color: var(--fill-color);\n",
              "    }\n",
              "  }\n",
              "</style>\n",
              "\n",
              "  <script>\n",
              "    async function quickchart(key) {\n",
              "      const quickchartButtonEl =\n",
              "        document.querySelector('#' + key + ' button');\n",
              "      quickchartButtonEl.disabled = true;  // To prevent multiple clicks.\n",
              "      quickchartButtonEl.classList.add('colab-df-spinner');\n",
              "      try {\n",
              "        const charts = await google.colab.kernel.invokeFunction(\n",
              "            'suggestCharts', [key], {});\n",
              "      } catch (error) {\n",
              "        console.error('Error during call to suggestCharts:', error);\n",
              "      }\n",
              "      quickchartButtonEl.classList.remove('colab-df-spinner');\n",
              "      quickchartButtonEl.classList.add('colab-df-quickchart-complete');\n",
              "    }\n",
              "    (() => {\n",
              "      let quickchartButtonEl =\n",
              "        document.querySelector('#df-8a0bb54d-66f6-4c09-b8b3-2ea2f000da18 button');\n",
              "      quickchartButtonEl.style.display =\n",
              "        google.colab.kernel.accessAllowed ? 'block' : 'none';\n",
              "    })();\n",
              "  </script>\n",
              "</div>\n",
              "\n",
              "    </div>\n",
              "  </div>\n"
            ],
            "application/vnd.google.colaboratory.intrinsic+json": {
              "type": "dataframe",
              "summary": "{\n  \"name\": \"pd\",\n  \"rows\": 20640,\n  \"fields\": [\n    {\n      \"column\": 0,\n      \"properties\": {\n        \"dtype\": \"number\",\n        \"std\": 1.8998217179452688,\n        \"min\": 0.4999,\n        \"max\": 15.0001,\n        \"num_unique_values\": 12928,\n        \"samples\": [\n          5.0286,\n          2.0433,\n          6.1228\n        ],\n        \"semantic_type\": \"\",\n        \"description\": \"\"\n      }\n    },\n    {\n      \"column\": 1,\n      \"properties\": {\n        \"dtype\": \"number\",\n        \"std\": 12.58555761211165,\n        \"min\": 1.0,\n        \"max\": 52.0,\n        \"num_unique_values\": 52,\n        \"samples\": [\n          35.0,\n          25.0,\n          7.0\n        ],\n        \"semantic_type\": \"\",\n        \"description\": \"\"\n      }\n    },\n    {\n      \"column\": 2,\n      \"properties\": {\n        \"dtype\": \"number\",\n        \"std\": 2.4741731394243187,\n        \"min\": 0.8461538461538461,\n        \"max\": 141.9090909090909,\n        \"num_unique_values\": 19392,\n        \"samples\": [\n          6.111269614835948,\n          5.912820512820513,\n          5.7924528301886795\n        ],\n        \"semantic_type\": \"\",\n        \"description\": \"\"\n      }\n    },\n    {\n      \"column\": 3,\n      \"properties\": {\n        \"dtype\": \"number\",\n        \"std\": 0.473910856795466,\n        \"min\": 0.3333333333333333,\n        \"max\": 34.06666666666667,\n        \"num_unique_values\": 14233,\n        \"samples\": [\n          0.9906542056074766,\n          1.112099644128114,\n          1.0398230088495575\n        ],\n        \"semantic_type\": \"\",\n        \"description\": \"\"\n      }\n    },\n    {\n      \"column\": 4,\n      \"properties\": {\n        \"dtype\": \"number\",\n        \"std\": 1132.462121765341,\n        \"min\": 3.0,\n        \"max\": 35682.0,\n        \"num_unique_values\": 3888,\n        \"samples\": [\n          4169.0,\n          636.0,\n          3367.0\n        ],\n        \"semantic_type\": \"\",\n        \"description\": \"\"\n      }\n    },\n    {\n      \"column\": 5,\n      \"properties\": {\n        \"dtype\": \"number\",\n        \"std\": 10.386049562213618,\n        \"min\": 0.6923076923076923,\n        \"max\": 1243.3333333333333,\n        \"num_unique_values\": 18841,\n        \"samples\": [\n          2.6939799331103678,\n          3.559375,\n          3.297082228116711\n        ],\n        \"semantic_type\": \"\",\n        \"description\": \"\"\n      }\n    },\n    {\n      \"column\": 6,\n      \"properties\": {\n        \"dtype\": \"number\",\n        \"std\": 2.1359523974571153,\n        \"min\": 32.54,\n        \"max\": 41.95,\n        \"num_unique_values\": 862,\n        \"samples\": [\n          33.7,\n          34.41,\n          38.24\n        ],\n        \"semantic_type\": \"\",\n        \"description\": \"\"\n      }\n    },\n    {\n      \"column\": 7,\n      \"properties\": {\n        \"dtype\": \"number\",\n        \"std\": 2.0035317235025882,\n        \"min\": -124.35,\n        \"max\": -114.31,\n        \"num_unique_values\": 844,\n        \"samples\": [\n          -118.63,\n          -119.86,\n          -121.26\n        ],\n        \"semantic_type\": \"\",\n        \"description\": \"\"\n      }\n    }\n  ]\n}"
            }
          },
          "metadata": {},
          "execution_count": 6
        }
      ]
    },
    {
      "cell_type": "code",
      "source": [
        "dataset=pd.DataFrame(df.data) #saving dataframe in dataset"
      ],
      "metadata": {
        "id": "KrO8fZ3EsH4e"
      },
      "execution_count": null,
      "outputs": []
    },
    {
      "cell_type": "code",
      "source": [
        "dataset.columns=df.feature_names #naming columns\n",
        "#dataset.head() #printing first 5 rows"
      ],
      "metadata": {
        "id": "Jta36_sissKW"
      },
      "execution_count": null,
      "outputs": []
    },
    {
      "cell_type": "code",
      "source": [
        "# setting up Independent and dependent features\n",
        "X=dataset\n",
        "Y=df.target\n",
        "Y"
      ],
      "metadata": {
        "colab": {
          "base_uri": "https://localhost:8080/"
        },
        "id": "ejeFTCT7tfWl",
        "outputId": "7b29d5ba-8a80-4a5f-caa2-254df1bf7cf6"
      },
      "execution_count": null,
      "outputs": [
        {
          "output_type": "execute_result",
          "data": {
            "text/plain": [
              "array([4.526, 3.585, 3.521, ..., 0.923, 0.847, 0.894])"
            ]
          },
          "metadata": {},
          "execution_count": 9
        }
      ]
    },
    {
      "cell_type": "code",
      "source": [
        "# train test split\n",
        "from sklearn.model_selection import train_test_split\n",
        "X_train,X_test,Y_train,Y_test=train_test_split(X,Y,test_size=0.2)"
      ],
      "metadata": {
        "id": "RxAjLH8kvQyN"
      },
      "execution_count": null,
      "outputs": []
    },
    {
      "cell_type": "code",
      "source": [
        "X_train"
      ],
      "metadata": {
        "colab": {
          "base_uri": "https://localhost:8080/",
          "height": 423
        },
        "id": "wevsjdccwrLF",
        "outputId": "1b9ed13f-d4b1-417a-bc9e-807f95e6ea51"
      },
      "execution_count": null,
      "outputs": [
        {
          "output_type": "execute_result",
          "data": {
            "text/plain": [
              "       MedInc  HouseAge   AveRooms  AveBedrms  Population  AveOccup  Latitude  \\\n",
              "19800  0.4999      15.0  11.596491   2.561404       131.0  2.298246     40.43   \n",
              "18831  1.9650      23.0   6.058608   1.351648       669.0  2.450549     41.60   \n",
              "16382  2.3750       4.0   4.504854   1.042071      1784.0  5.773463     38.00   \n",
              "8820   1.6081      35.0   3.354132   1.069140      1108.0  1.868465     34.09   \n",
              "1155   3.0446      26.0   5.657534   1.113014       790.0  2.705479     39.50   \n",
              "...       ...       ...        ...        ...         ...       ...       ...   \n",
              "18180  3.0047       9.0   4.008108   1.040541      1430.0  1.932432     37.37   \n",
              "5005   3.1548      50.0   5.401760   1.105572       817.0  2.395894     34.01   \n",
              "8086   4.6458      46.0   5.759336   1.053942       742.0  3.078838     33.81   \n",
              "14321  1.3125      52.0   2.337209   1.063953       557.0  3.238372     32.71   \n",
              "4764   3.5161      45.0   4.662269   1.100264      1052.0  2.775726     34.04   \n",
              "\n",
              "       Longitude  \n",
              "19800    -123.32  \n",
              "18831    -123.41  \n",
              "16382    -121.29  \n",
              "8820     -118.35  \n",
              "1155     -121.44  \n",
              "...          ...  \n",
              "18180    -122.03  \n",
              "5005     -118.32  \n",
              "8086     -118.20  \n",
              "14321    -117.15  \n",
              "4764     -118.36  \n",
              "\n",
              "[16512 rows x 8 columns]"
            ],
            "text/html": [
              "\n",
              "  <div id=\"df-0d74b5e2-41f7-48d3-b594-2b8c05dce139\" class=\"colab-df-container\">\n",
              "    <div>\n",
              "<style scoped>\n",
              "    .dataframe tbody tr th:only-of-type {\n",
              "        vertical-align: middle;\n",
              "    }\n",
              "\n",
              "    .dataframe tbody tr th {\n",
              "        vertical-align: top;\n",
              "    }\n",
              "\n",
              "    .dataframe thead th {\n",
              "        text-align: right;\n",
              "    }\n",
              "</style>\n",
              "<table border=\"1\" class=\"dataframe\">\n",
              "  <thead>\n",
              "    <tr style=\"text-align: right;\">\n",
              "      <th></th>\n",
              "      <th>MedInc</th>\n",
              "      <th>HouseAge</th>\n",
              "      <th>AveRooms</th>\n",
              "      <th>AveBedrms</th>\n",
              "      <th>Population</th>\n",
              "      <th>AveOccup</th>\n",
              "      <th>Latitude</th>\n",
              "      <th>Longitude</th>\n",
              "    </tr>\n",
              "  </thead>\n",
              "  <tbody>\n",
              "    <tr>\n",
              "      <th>19800</th>\n",
              "      <td>0.4999</td>\n",
              "      <td>15.0</td>\n",
              "      <td>11.596491</td>\n",
              "      <td>2.561404</td>\n",
              "      <td>131.0</td>\n",
              "      <td>2.298246</td>\n",
              "      <td>40.43</td>\n",
              "      <td>-123.32</td>\n",
              "    </tr>\n",
              "    <tr>\n",
              "      <th>18831</th>\n",
              "      <td>1.9650</td>\n",
              "      <td>23.0</td>\n",
              "      <td>6.058608</td>\n",
              "      <td>1.351648</td>\n",
              "      <td>669.0</td>\n",
              "      <td>2.450549</td>\n",
              "      <td>41.60</td>\n",
              "      <td>-123.41</td>\n",
              "    </tr>\n",
              "    <tr>\n",
              "      <th>16382</th>\n",
              "      <td>2.3750</td>\n",
              "      <td>4.0</td>\n",
              "      <td>4.504854</td>\n",
              "      <td>1.042071</td>\n",
              "      <td>1784.0</td>\n",
              "      <td>5.773463</td>\n",
              "      <td>38.00</td>\n",
              "      <td>-121.29</td>\n",
              "    </tr>\n",
              "    <tr>\n",
              "      <th>8820</th>\n",
              "      <td>1.6081</td>\n",
              "      <td>35.0</td>\n",
              "      <td>3.354132</td>\n",
              "      <td>1.069140</td>\n",
              "      <td>1108.0</td>\n",
              "      <td>1.868465</td>\n",
              "      <td>34.09</td>\n",
              "      <td>-118.35</td>\n",
              "    </tr>\n",
              "    <tr>\n",
              "      <th>1155</th>\n",
              "      <td>3.0446</td>\n",
              "      <td>26.0</td>\n",
              "      <td>5.657534</td>\n",
              "      <td>1.113014</td>\n",
              "      <td>790.0</td>\n",
              "      <td>2.705479</td>\n",
              "      <td>39.50</td>\n",
              "      <td>-121.44</td>\n",
              "    </tr>\n",
              "    <tr>\n",
              "      <th>...</th>\n",
              "      <td>...</td>\n",
              "      <td>...</td>\n",
              "      <td>...</td>\n",
              "      <td>...</td>\n",
              "      <td>...</td>\n",
              "      <td>...</td>\n",
              "      <td>...</td>\n",
              "      <td>...</td>\n",
              "    </tr>\n",
              "    <tr>\n",
              "      <th>18180</th>\n",
              "      <td>3.0047</td>\n",
              "      <td>9.0</td>\n",
              "      <td>4.008108</td>\n",
              "      <td>1.040541</td>\n",
              "      <td>1430.0</td>\n",
              "      <td>1.932432</td>\n",
              "      <td>37.37</td>\n",
              "      <td>-122.03</td>\n",
              "    </tr>\n",
              "    <tr>\n",
              "      <th>5005</th>\n",
              "      <td>3.1548</td>\n",
              "      <td>50.0</td>\n",
              "      <td>5.401760</td>\n",
              "      <td>1.105572</td>\n",
              "      <td>817.0</td>\n",
              "      <td>2.395894</td>\n",
              "      <td>34.01</td>\n",
              "      <td>-118.32</td>\n",
              "    </tr>\n",
              "    <tr>\n",
              "      <th>8086</th>\n",
              "      <td>4.6458</td>\n",
              "      <td>46.0</td>\n",
              "      <td>5.759336</td>\n",
              "      <td>1.053942</td>\n",
              "      <td>742.0</td>\n",
              "      <td>3.078838</td>\n",
              "      <td>33.81</td>\n",
              "      <td>-118.20</td>\n",
              "    </tr>\n",
              "    <tr>\n",
              "      <th>14321</th>\n",
              "      <td>1.3125</td>\n",
              "      <td>52.0</td>\n",
              "      <td>2.337209</td>\n",
              "      <td>1.063953</td>\n",
              "      <td>557.0</td>\n",
              "      <td>3.238372</td>\n",
              "      <td>32.71</td>\n",
              "      <td>-117.15</td>\n",
              "    </tr>\n",
              "    <tr>\n",
              "      <th>4764</th>\n",
              "      <td>3.5161</td>\n",
              "      <td>45.0</td>\n",
              "      <td>4.662269</td>\n",
              "      <td>1.100264</td>\n",
              "      <td>1052.0</td>\n",
              "      <td>2.775726</td>\n",
              "      <td>34.04</td>\n",
              "      <td>-118.36</td>\n",
              "    </tr>\n",
              "  </tbody>\n",
              "</table>\n",
              "<p>16512 rows × 8 columns</p>\n",
              "</div>\n",
              "    <div class=\"colab-df-buttons\">\n",
              "\n",
              "  <div class=\"colab-df-container\">\n",
              "    <button class=\"colab-df-convert\" onclick=\"convertToInteractive('df-0d74b5e2-41f7-48d3-b594-2b8c05dce139')\"\n",
              "            title=\"Convert this dataframe to an interactive table.\"\n",
              "            style=\"display:none;\">\n",
              "\n",
              "  <svg xmlns=\"http://www.w3.org/2000/svg\" height=\"24px\" viewBox=\"0 -960 960 960\">\n",
              "    <path d=\"M120-120v-720h720v720H120Zm60-500h600v-160H180v160Zm220 220h160v-160H400v160Zm0 220h160v-160H400v160ZM180-400h160v-160H180v160Zm440 0h160v-160H620v160ZM180-180h160v-160H180v160Zm440 0h160v-160H620v160Z\"/>\n",
              "  </svg>\n",
              "    </button>\n",
              "\n",
              "  <style>\n",
              "    .colab-df-container {\n",
              "      display:flex;\n",
              "      gap: 12px;\n",
              "    }\n",
              "\n",
              "    .colab-df-convert {\n",
              "      background-color: #E8F0FE;\n",
              "      border: none;\n",
              "      border-radius: 50%;\n",
              "      cursor: pointer;\n",
              "      display: none;\n",
              "      fill: #1967D2;\n",
              "      height: 32px;\n",
              "      padding: 0 0 0 0;\n",
              "      width: 32px;\n",
              "    }\n",
              "\n",
              "    .colab-df-convert:hover {\n",
              "      background-color: #E2EBFA;\n",
              "      box-shadow: 0px 1px 2px rgba(60, 64, 67, 0.3), 0px 1px 3px 1px rgba(60, 64, 67, 0.15);\n",
              "      fill: #174EA6;\n",
              "    }\n",
              "\n",
              "    .colab-df-buttons div {\n",
              "      margin-bottom: 4px;\n",
              "    }\n",
              "\n",
              "    [theme=dark] .colab-df-convert {\n",
              "      background-color: #3B4455;\n",
              "      fill: #D2E3FC;\n",
              "    }\n",
              "\n",
              "    [theme=dark] .colab-df-convert:hover {\n",
              "      background-color: #434B5C;\n",
              "      box-shadow: 0px 1px 3px 1px rgba(0, 0, 0, 0.15);\n",
              "      filter: drop-shadow(0px 1px 2px rgba(0, 0, 0, 0.3));\n",
              "      fill: #FFFFFF;\n",
              "    }\n",
              "  </style>\n",
              "\n",
              "    <script>\n",
              "      const buttonEl =\n",
              "        document.querySelector('#df-0d74b5e2-41f7-48d3-b594-2b8c05dce139 button.colab-df-convert');\n",
              "      buttonEl.style.display =\n",
              "        google.colab.kernel.accessAllowed ? 'block' : 'none';\n",
              "\n",
              "      async function convertToInteractive(key) {\n",
              "        const element = document.querySelector('#df-0d74b5e2-41f7-48d3-b594-2b8c05dce139');\n",
              "        const dataTable =\n",
              "          await google.colab.kernel.invokeFunction('convertToInteractive',\n",
              "                                                    [key], {});\n",
              "        if (!dataTable) return;\n",
              "\n",
              "        const docLinkHtml = 'Like what you see? Visit the ' +\n",
              "          '<a target=\"_blank\" href=https://colab.research.google.com/notebooks/data_table.ipynb>data table notebook</a>'\n",
              "          + ' to learn more about interactive tables.';\n",
              "        element.innerHTML = '';\n",
              "        dataTable['output_type'] = 'display_data';\n",
              "        await google.colab.output.renderOutput(dataTable, element);\n",
              "        const docLink = document.createElement('div');\n",
              "        docLink.innerHTML = docLinkHtml;\n",
              "        element.appendChild(docLink);\n",
              "      }\n",
              "    </script>\n",
              "  </div>\n",
              "\n",
              "\n",
              "<div id=\"df-9e6f8377-0151-48cc-ad38-1559ce08559e\">\n",
              "  <button class=\"colab-df-quickchart\" onclick=\"quickchart('df-9e6f8377-0151-48cc-ad38-1559ce08559e')\"\n",
              "            title=\"Suggest charts\"\n",
              "            style=\"display:none;\">\n",
              "\n",
              "<svg xmlns=\"http://www.w3.org/2000/svg\" height=\"24px\"viewBox=\"0 0 24 24\"\n",
              "     width=\"24px\">\n",
              "    <g>\n",
              "        <path d=\"M19 3H5c-1.1 0-2 .9-2 2v14c0 1.1.9 2 2 2h14c1.1 0 2-.9 2-2V5c0-1.1-.9-2-2-2zM9 17H7v-7h2v7zm4 0h-2V7h2v10zm4 0h-2v-4h2v4z\"/>\n",
              "    </g>\n",
              "</svg>\n",
              "  </button>\n",
              "\n",
              "<style>\n",
              "  .colab-df-quickchart {\n",
              "      --bg-color: #E8F0FE;\n",
              "      --fill-color: #1967D2;\n",
              "      --hover-bg-color: #E2EBFA;\n",
              "      --hover-fill-color: #174EA6;\n",
              "      --disabled-fill-color: #AAA;\n",
              "      --disabled-bg-color: #DDD;\n",
              "  }\n",
              "\n",
              "  [theme=dark] .colab-df-quickchart {\n",
              "      --bg-color: #3B4455;\n",
              "      --fill-color: #D2E3FC;\n",
              "      --hover-bg-color: #434B5C;\n",
              "      --hover-fill-color: #FFFFFF;\n",
              "      --disabled-bg-color: #3B4455;\n",
              "      --disabled-fill-color: #666;\n",
              "  }\n",
              "\n",
              "  .colab-df-quickchart {\n",
              "    background-color: var(--bg-color);\n",
              "    border: none;\n",
              "    border-radius: 50%;\n",
              "    cursor: pointer;\n",
              "    display: none;\n",
              "    fill: var(--fill-color);\n",
              "    height: 32px;\n",
              "    padding: 0;\n",
              "    width: 32px;\n",
              "  }\n",
              "\n",
              "  .colab-df-quickchart:hover {\n",
              "    background-color: var(--hover-bg-color);\n",
              "    box-shadow: 0 1px 2px rgba(60, 64, 67, 0.3), 0 1px 3px 1px rgba(60, 64, 67, 0.15);\n",
              "    fill: var(--button-hover-fill-color);\n",
              "  }\n",
              "\n",
              "  .colab-df-quickchart-complete:disabled,\n",
              "  .colab-df-quickchart-complete:disabled:hover {\n",
              "    background-color: var(--disabled-bg-color);\n",
              "    fill: var(--disabled-fill-color);\n",
              "    box-shadow: none;\n",
              "  }\n",
              "\n",
              "  .colab-df-spinner {\n",
              "    border: 2px solid var(--fill-color);\n",
              "    border-color: transparent;\n",
              "    border-bottom-color: var(--fill-color);\n",
              "    animation:\n",
              "      spin 1s steps(1) infinite;\n",
              "  }\n",
              "\n",
              "  @keyframes spin {\n",
              "    0% {\n",
              "      border-color: transparent;\n",
              "      border-bottom-color: var(--fill-color);\n",
              "      border-left-color: var(--fill-color);\n",
              "    }\n",
              "    20% {\n",
              "      border-color: transparent;\n",
              "      border-left-color: var(--fill-color);\n",
              "      border-top-color: var(--fill-color);\n",
              "    }\n",
              "    30% {\n",
              "      border-color: transparent;\n",
              "      border-left-color: var(--fill-color);\n",
              "      border-top-color: var(--fill-color);\n",
              "      border-right-color: var(--fill-color);\n",
              "    }\n",
              "    40% {\n",
              "      border-color: transparent;\n",
              "      border-right-color: var(--fill-color);\n",
              "      border-top-color: var(--fill-color);\n",
              "    }\n",
              "    60% {\n",
              "      border-color: transparent;\n",
              "      border-right-color: var(--fill-color);\n",
              "    }\n",
              "    80% {\n",
              "      border-color: transparent;\n",
              "      border-right-color: var(--fill-color);\n",
              "      border-bottom-color: var(--fill-color);\n",
              "    }\n",
              "    90% {\n",
              "      border-color: transparent;\n",
              "      border-bottom-color: var(--fill-color);\n",
              "    }\n",
              "  }\n",
              "</style>\n",
              "\n",
              "  <script>\n",
              "    async function quickchart(key) {\n",
              "      const quickchartButtonEl =\n",
              "        document.querySelector('#' + key + ' button');\n",
              "      quickchartButtonEl.disabled = true;  // To prevent multiple clicks.\n",
              "      quickchartButtonEl.classList.add('colab-df-spinner');\n",
              "      try {\n",
              "        const charts = await google.colab.kernel.invokeFunction(\n",
              "            'suggestCharts', [key], {});\n",
              "      } catch (error) {\n",
              "        console.error('Error during call to suggestCharts:', error);\n",
              "      }\n",
              "      quickchartButtonEl.classList.remove('colab-df-spinner');\n",
              "      quickchartButtonEl.classList.add('colab-df-quickchart-complete');\n",
              "    }\n",
              "    (() => {\n",
              "      let quickchartButtonEl =\n",
              "        document.querySelector('#df-9e6f8377-0151-48cc-ad38-1559ce08559e button');\n",
              "      quickchartButtonEl.style.display =\n",
              "        google.colab.kernel.accessAllowed ? 'block' : 'none';\n",
              "    })();\n",
              "  </script>\n",
              "</div>\n",
              "\n",
              "  <div id=\"id_2d451fd2-08ad-462f-b8e2-b29b5422776a\">\n",
              "    <style>\n",
              "      .colab-df-generate {\n",
              "        background-color: #E8F0FE;\n",
              "        border: none;\n",
              "        border-radius: 50%;\n",
              "        cursor: pointer;\n",
              "        display: none;\n",
              "        fill: #1967D2;\n",
              "        height: 32px;\n",
              "        padding: 0 0 0 0;\n",
              "        width: 32px;\n",
              "      }\n",
              "\n",
              "      .colab-df-generate:hover {\n",
              "        background-color: #E2EBFA;\n",
              "        box-shadow: 0px 1px 2px rgba(60, 64, 67, 0.3), 0px 1px 3px 1px rgba(60, 64, 67, 0.15);\n",
              "        fill: #174EA6;\n",
              "      }\n",
              "\n",
              "      [theme=dark] .colab-df-generate {\n",
              "        background-color: #3B4455;\n",
              "        fill: #D2E3FC;\n",
              "      }\n",
              "\n",
              "      [theme=dark] .colab-df-generate:hover {\n",
              "        background-color: #434B5C;\n",
              "        box-shadow: 0px 1px 3px 1px rgba(0, 0, 0, 0.15);\n",
              "        filter: drop-shadow(0px 1px 2px rgba(0, 0, 0, 0.3));\n",
              "        fill: #FFFFFF;\n",
              "      }\n",
              "    </style>\n",
              "    <button class=\"colab-df-generate\" onclick=\"generateWithVariable('X_train')\"\n",
              "            title=\"Generate code using this dataframe.\"\n",
              "            style=\"display:none;\">\n",
              "\n",
              "  <svg xmlns=\"http://www.w3.org/2000/svg\" height=\"24px\"viewBox=\"0 0 24 24\"\n",
              "       width=\"24px\">\n",
              "    <path d=\"M7,19H8.4L18.45,9,17,7.55,7,17.6ZM5,21V16.75L18.45,3.32a2,2,0,0,1,2.83,0l1.4,1.43a1.91,1.91,0,0,1,.58,1.4,1.91,1.91,0,0,1-.58,1.4L9.25,21ZM18.45,9,17,7.55Zm-12,3A5.31,5.31,0,0,0,4.9,8.1,5.31,5.31,0,0,0,1,6.5,5.31,5.31,0,0,0,4.9,4.9,5.31,5.31,0,0,0,6.5,1,5.31,5.31,0,0,0,8.1,4.9,5.31,5.31,0,0,0,12,6.5,5.46,5.46,0,0,0,6.5,12Z\"/>\n",
              "  </svg>\n",
              "    </button>\n",
              "    <script>\n",
              "      (() => {\n",
              "      const buttonEl =\n",
              "        document.querySelector('#id_2d451fd2-08ad-462f-b8e2-b29b5422776a button.colab-df-generate');\n",
              "      buttonEl.style.display =\n",
              "        google.colab.kernel.accessAllowed ? 'block' : 'none';\n",
              "\n",
              "      buttonEl.onclick = () => {\n",
              "        google.colab.notebook.generateWithVariable('X_train');\n",
              "      }\n",
              "      })();\n",
              "    </script>\n",
              "  </div>\n",
              "\n",
              "    </div>\n",
              "  </div>\n"
            ],
            "application/vnd.google.colaboratory.intrinsic+json": {
              "type": "dataframe",
              "variable_name": "X_train",
              "summary": "{\n  \"name\": \"X_train\",\n  \"rows\": 16512,\n  \"fields\": [\n    {\n      \"column\": \"MedInc\",\n      \"properties\": {\n        \"dtype\": \"number\",\n        \"std\": 1.8991012967192547,\n        \"min\": 0.4999,\n        \"max\": 15.0001,\n        \"num_unique_values\": 10890,\n        \"samples\": [\n          2.3937,\n          1.5455,\n          3.1033\n        ],\n        \"semantic_type\": \"\",\n        \"description\": \"\"\n      }\n    },\n    {\n      \"column\": \"HouseAge\",\n      \"properties\": {\n        \"dtype\": \"number\",\n        \"std\": 12.584950569161254,\n        \"min\": 1.0,\n        \"max\": 52.0,\n        \"num_unique_values\": 52,\n        \"samples\": [\n          25.0,\n          49.0,\n          7.0\n        ],\n        \"semantic_type\": \"\",\n        \"description\": \"\"\n      }\n    },\n    {\n      \"column\": \"AveRooms\",\n      \"properties\": {\n        \"dtype\": \"number\",\n        \"std\": 2.2894605328970288,\n        \"min\": 0.8461538461538461,\n        \"max\": 141.9090909090909,\n        \"num_unique_values\": 15651,\n        \"samples\": [\n          4.568047337278107,\n          4.658018867924528,\n          5.922981366459627\n        ],\n        \"semantic_type\": \"\",\n        \"description\": \"\"\n      }\n    },\n    {\n      \"column\": \"AveBedrms\",\n      \"properties\": {\n        \"dtype\": \"number\",\n        \"std\": 0.4025095008841973,\n        \"min\": 0.4444444444444444,\n        \"max\": 25.636363636363637,\n        \"num_unique_values\": 11956,\n        \"samples\": [\n          1.029673590504451,\n          1.0100430416068866,\n          1.0554089709762533\n        ],\n        \"semantic_type\": \"\",\n        \"description\": \"\"\n      }\n    },\n    {\n      \"column\": \"Population\",\n      \"properties\": {\n        \"dtype\": \"number\",\n        \"std\": 1088.368969454939,\n        \"min\": 3.0,\n        \"max\": 16305.0,\n        \"num_unique_values\": 3630,\n        \"samples\": [\n          1905.0,\n          2144.0,\n          1968.0\n        ],\n        \"semantic_type\": \"\",\n        \"description\": \"\"\n      }\n    },\n    {\n      \"column\": \"AveOccup\",\n      \"properties\": {\n        \"dtype\": \"number\",\n        \"std\": 6.189649261763469,\n        \"min\": 0.6923076923076923,\n        \"max\": 599.7142857142857,\n        \"num_unique_values\": 15290,\n        \"samples\": [\n          2.745614035087719,\n          2.6950819672131145,\n          3.111856823266219\n        ],\n        \"semantic_type\": \"\",\n        \"description\": \"\"\n      }\n    },\n    {\n      \"column\": \"Latitude\",\n      \"properties\": {\n        \"dtype\": \"number\",\n        \"std\": 2.1361473451451896,\n        \"min\": 32.54,\n        \"max\": 41.95,\n        \"num_unique_values\": 843,\n        \"samples\": [\n          37.61,\n          36.59,\n          40.13\n        ],\n        \"semantic_type\": \"\",\n        \"description\": \"\"\n      }\n    },\n    {\n      \"column\": \"Longitude\",\n      \"properties\": {\n        \"dtype\": \"number\",\n        \"std\": 2.0018918944781814,\n        \"min\": -124.35,\n        \"max\": -114.31,\n        \"num_unique_values\": 814,\n        \"samples\": [\n          -118.99,\n          -116.42,\n          -118.56\n        ],\n        \"semantic_type\": \"\",\n        \"description\": \"\"\n      }\n    }\n  ]\n}"
            }
          },
          "metadata": {},
          "execution_count": 11
        }
      ]
    },
    {
      "cell_type": "code",
      "source": [
        "# standardising data\n",
        "from sklearn.preprocessing import StandardScaler\n",
        "scaler=StandardScaler()"
      ],
      "metadata": {
        "id": "MBdaZgfwxEWQ"
      },
      "execution_count": null,
      "outputs": []
    },
    {
      "cell_type": "code",
      "source": [
        "scaler.fit_transform(X_train)"
      ],
      "metadata": {
        "colab": {
          "base_uri": "https://localhost:8080/"
        },
        "id": "3iAgQNMjycaX",
        "outputId": "90c4f894-e029-48ef-99fc-7c659e3f7d5a"
      },
      "execution_count": null,
      "outputs": [
        {
          "output_type": "execute_result",
          "data": {
            "text/plain": [
              "array([[-1.77746699, -1.08765594,  2.69716007, ..., -0.11564518,\n",
              "         2.24327541, -1.86941687],\n",
              "       [-1.00597346, -0.45195679,  0.27822741, ..., -0.09103822,\n",
              "         2.79100702, -1.9143757 ],\n",
              "       [-0.79007533, -1.96174225, -0.40044808, ...,  0.44582806,\n",
              "         1.10567898, -0.85534539],\n",
              "       ...,\n",
              "       [ 0.40568435,  1.37567823,  0.14750621, ...,  0.01047121,\n",
              "        -0.85585559,  0.68824125],\n",
              "       [-1.34956743,  1.85245259, -1.34726969, ...,  0.0362463 ,\n",
              "        -1.37081694,  1.21276098],\n",
              "       [-0.18919398,  1.29621584, -0.33168973, ..., -0.03850116,\n",
              "        -0.74818186,  0.60831443]])"
            ]
          },
          "metadata": {},
          "execution_count": 13
        }
      ]
    },
    {
      "cell_type": "code",
      "source": [
        "X_train=scaler.fit_transform(X_train)\n",
        "X_test=scaler.transform(X_test)"
      ],
      "metadata": {
        "id": "_nJ5DB2_0XkQ"
      },
      "execution_count": null,
      "outputs": []
    },
    {
      "cell_type": "code",
      "source": [
        "from sklearn.linear_model import LinearRegression\n",
        "# cross validation\n",
        "from sklearn.model_selection import cross_val_score"
      ],
      "metadata": {
        "id": "bRErcPHa09Va"
      },
      "execution_count": null,
      "outputs": []
    },
    {
      "cell_type": "code",
      "source": [
        "reg=LinearRegression()\n",
        "reg.fit(X_train,Y_train)"
      ],
      "metadata": {
        "colab": {
          "base_uri": "https://localhost:8080/",
          "height": 74
        },
        "id": "QjUhJFtx2FU2",
        "outputId": "341660e1-ae8e-45c9-84ff-7299073e2362"
      },
      "execution_count": null,
      "outputs": [
        {
          "output_type": "execute_result",
          "data": {
            "text/plain": [
              "LinearRegression()"
            ],
            "text/html": [
              "<style>#sk-container-id-1 {color: black;}#sk-container-id-1 pre{padding: 0;}#sk-container-id-1 div.sk-toggleable {background-color: white;}#sk-container-id-1 label.sk-toggleable__label {cursor: pointer;display: block;width: 100%;margin-bottom: 0;padding: 0.3em;box-sizing: border-box;text-align: center;}#sk-container-id-1 label.sk-toggleable__label-arrow:before {content: \"▸\";float: left;margin-right: 0.25em;color: #696969;}#sk-container-id-1 label.sk-toggleable__label-arrow:hover:before {color: black;}#sk-container-id-1 div.sk-estimator:hover label.sk-toggleable__label-arrow:before {color: black;}#sk-container-id-1 div.sk-toggleable__content {max-height: 0;max-width: 0;overflow: hidden;text-align: left;background-color: #f0f8ff;}#sk-container-id-1 div.sk-toggleable__content pre {margin: 0.2em;color: black;border-radius: 0.25em;background-color: #f0f8ff;}#sk-container-id-1 input.sk-toggleable__control:checked~div.sk-toggleable__content {max-height: 200px;max-width: 100%;overflow: auto;}#sk-container-id-1 input.sk-toggleable__control:checked~label.sk-toggleable__label-arrow:before {content: \"▾\";}#sk-container-id-1 div.sk-estimator input.sk-toggleable__control:checked~label.sk-toggleable__label {background-color: #d4ebff;}#sk-container-id-1 div.sk-label input.sk-toggleable__control:checked~label.sk-toggleable__label {background-color: #d4ebff;}#sk-container-id-1 input.sk-hidden--visually {border: 0;clip: rect(1px 1px 1px 1px);clip: rect(1px, 1px, 1px, 1px);height: 1px;margin: -1px;overflow: hidden;padding: 0;position: absolute;width: 1px;}#sk-container-id-1 div.sk-estimator {font-family: monospace;background-color: #f0f8ff;border: 1px dotted black;border-radius: 0.25em;box-sizing: border-box;margin-bottom: 0.5em;}#sk-container-id-1 div.sk-estimator:hover {background-color: #d4ebff;}#sk-container-id-1 div.sk-parallel-item::after {content: \"\";width: 100%;border-bottom: 1px solid gray;flex-grow: 1;}#sk-container-id-1 div.sk-label:hover label.sk-toggleable__label {background-color: #d4ebff;}#sk-container-id-1 div.sk-serial::before {content: \"\";position: absolute;border-left: 1px solid gray;box-sizing: border-box;top: 0;bottom: 0;left: 50%;z-index: 0;}#sk-container-id-1 div.sk-serial {display: flex;flex-direction: column;align-items: center;background-color: white;padding-right: 0.2em;padding-left: 0.2em;position: relative;}#sk-container-id-1 div.sk-item {position: relative;z-index: 1;}#sk-container-id-1 div.sk-parallel {display: flex;align-items: stretch;justify-content: center;background-color: white;position: relative;}#sk-container-id-1 div.sk-item::before, #sk-container-id-1 div.sk-parallel-item::before {content: \"\";position: absolute;border-left: 1px solid gray;box-sizing: border-box;top: 0;bottom: 0;left: 50%;z-index: -1;}#sk-container-id-1 div.sk-parallel-item {display: flex;flex-direction: column;z-index: 1;position: relative;background-color: white;}#sk-container-id-1 div.sk-parallel-item:first-child::after {align-self: flex-end;width: 50%;}#sk-container-id-1 div.sk-parallel-item:last-child::after {align-self: flex-start;width: 50%;}#sk-container-id-1 div.sk-parallel-item:only-child::after {width: 0;}#sk-container-id-1 div.sk-dashed-wrapped {border: 1px dashed gray;margin: 0 0.4em 0.5em 0.4em;box-sizing: border-box;padding-bottom: 0.4em;background-color: white;}#sk-container-id-1 div.sk-label label {font-family: monospace;font-weight: bold;display: inline-block;line-height: 1.2em;}#sk-container-id-1 div.sk-label-container {text-align: center;}#sk-container-id-1 div.sk-container {/* jupyter's `normalize.less` sets `[hidden] { display: none; }` but bootstrap.min.css set `[hidden] { display: none !important; }` so we also need the `!important` here to be able to override the default hidden behavior on the sphinx rendered scikit-learn.org. See: https://github.com/scikit-learn/scikit-learn/issues/21755 */display: inline-block !important;position: relative;}#sk-container-id-1 div.sk-text-repr-fallback {display: none;}</style><div id=\"sk-container-id-1\" class=\"sk-top-container\"><div class=\"sk-text-repr-fallback\"><pre>LinearRegression()</pre><b>In a Jupyter environment, please rerun this cell to show the HTML representation or trust the notebook. <br />On GitHub, the HTML representation is unable to render, please try loading this page with nbviewer.org.</b></div><div class=\"sk-container\" hidden><div class=\"sk-item\"><div class=\"sk-estimator sk-toggleable\"><input class=\"sk-toggleable__control sk-hidden--visually\" id=\"sk-estimator-id-1\" type=\"checkbox\" checked><label for=\"sk-estimator-id-1\" class=\"sk-toggleable__label sk-toggleable__label-arrow\">LinearRegression</label><div class=\"sk-toggleable__content\"><pre>LinearRegression()</pre></div></div></div></div></div>"
            ]
          },
          "metadata": {},
          "execution_count": 16
        }
      ]
    },
    {
      "cell_type": "code",
      "source": [
        "cross_val_score(reg,X_train,Y_train,scoring='neg_mean_squared_error',cv=5)"
      ],
      "metadata": {
        "colab": {
          "base_uri": "https://localhost:8080/"
        },
        "id": "MKnqmvpso3Bu",
        "outputId": "17acaf4d-de38-4227-aeed-e5a543a885e0"
      },
      "execution_count": null,
      "outputs": [
        {
          "output_type": "execute_result",
          "data": {
            "text/plain": [
              "array([-0.56043671, -0.53859812, -0.5083233 , -0.52694032, -0.5502267 ])"
            ]
          },
          "metadata": {},
          "execution_count": 17
        }
      ]
    },
    {
      "cell_type": "code",
      "source": [
        "mse=cross_val_score(reg,X_train,Y_train,scoring='neg_mean_squared_error',cv=5)"
      ],
      "metadata": {
        "id": "G1QhKz8z2OQ5"
      },
      "execution_count": null,
      "outputs": []
    },
    {
      "cell_type": "code",
      "source": [
        "np.mean(mse)"
      ],
      "metadata": {
        "colab": {
          "base_uri": "https://localhost:8080/"
        },
        "id": "m7HcL6fV5ZIZ",
        "outputId": "02ca929e-9ef8-469e-a4a3-83c42533f358"
      },
      "execution_count": null,
      "outputs": [
        {
          "output_type": "execute_result",
          "data": {
            "text/plain": [
              "-0.5369050301172915"
            ]
          },
          "metadata": {},
          "execution_count": 19
        }
      ]
    },
    {
      "cell_type": "code",
      "source": [
        "# prediction\n",
        "reg_pred=reg.predict(X_test)"
      ],
      "metadata": {
        "id": "0sbPck6E5nWY"
      },
      "execution_count": null,
      "outputs": []
    },
    {
      "cell_type": "code",
      "source": [
        "reg_pred"
      ],
      "metadata": {
        "colab": {
          "base_uri": "https://localhost:8080/"
        },
        "id": "i52jrC416ggO",
        "outputId": "4e1b4cb6-e1bd-4e76-b6b2-cd09f33a2073"
      },
      "execution_count": null,
      "outputs": [
        {
          "output_type": "execute_result",
          "data": {
            "text/plain": [
              "array([1.32743287, 2.72116153, 2.68802782, ..., 1.08877952, 2.71466874,\n",
              "       0.86166863])"
            ]
          },
          "metadata": {},
          "execution_count": 21
        }
      ]
    },
    {
      "cell_type": "code",
      "source": [
        "from sklearn.metrics import r2_score,mean_squared_error"
      ],
      "metadata": {
        "id": "bzczKr4xb2Re"
      },
      "execution_count": null,
      "outputs": []
    },
    {
      "cell_type": "code",
      "source": [
        "print(\"R2 score\", r2_score(Y_test,reg_pred))"
      ],
      "metadata": {
        "colab": {
          "base_uri": "https://localhost:8080/"
        },
        "id": "R5HtWWbmb7Mn",
        "outputId": "50494bb1-adca-4d82-c42f-f75359d59eb9"
      },
      "execution_count": null,
      "outputs": [
        {
          "output_type": "stream",
          "name": "stdout",
          "text": [
            "R2 score 0.6022830326398085\n"
          ]
        }
      ]
    },
    {
      "cell_type": "code",
      "source": [
        "print(\"RMSE:\", np.sqrt(mean_squared_error(Y_test,reg_pred)))"
      ],
      "metadata": {
        "colab": {
          "base_uri": "https://localhost:8080/"
        },
        "id": "b4rxkRenb_p7",
        "outputId": "b3f0127a-5856-4b46-f93a-b26805718801"
      },
      "execution_count": null,
      "outputs": [
        {
          "output_type": "stream",
          "name": "stdout",
          "text": [
            "RMSE: 0.7075251785162899\n"
          ]
        }
      ]
    },
    {
      "cell_type": "code",
      "source": [
        "import seaborn as sns\n",
        "sns.displot(Y_test-reg_pred,kind='kde') # use kind='kde' as another parametre to see detailed view of the probability density in continuous manner"
      ],
      "metadata": {
        "colab": {
          "base_uri": "https://localhost:8080/",
          "height": 523
        },
        "id": "QWTfUdPG7kOe",
        "outputId": "03fbf369-b4d9-42da-fa84-034d1ba331d3"
      },
      "execution_count": null,
      "outputs": [
        {
          "output_type": "execute_result",
          "data": {
            "text/plain": [
              "<seaborn.axisgrid.FacetGrid at 0x7bce73c329e0>"
            ]
          },
          "metadata": {},
          "execution_count": 57
        },
        {
          "output_type": "display_data",
          "data": {
            "text/plain": [
              "<Figure size 500x500 with 1 Axes>"
            ],
            "image/png": "[encoded data removed]"
          },
          "metadata": {}
        }
      ]
    },
    {
      "cell_type": "code",
      "source": [
        "print(reg.intercept_) # intercept\n",
        "print(reg.coef_) #coefficients"
      ],
      "metadata": {
        "colab": {
          "base_uri": "https://localhost:8080/"
        },
        "id": "2Kz_SQuvjOtt",
        "outputId": "c894e21f-93be-4022-d2b1-6c7ef31599f6"
      },
      "execution_count": null,
      "outputs": [
        {
          "output_type": "stream",
          "name": "stdout",
          "text": [
            "2.078616144622095\n",
            "[ 8.43563627e-01  1.24446160e-01 -2.72883349e-01  3.25692656e-01\n",
            "  4.53039237e-04 -3.11597998e-02 -9.05325445e-01 -8.73864549e-01]\n"
          ]
        }
      ]
    },
    {
      "cell_type": "code",
      "source": [
        "# Try with test size as 30% and 40%\n",
        "# Try scoring parametre as mean absolute error\n",
        "# Try with cv with 10 times"
      ],
      "metadata": {
        "id": "xilS-op1YIB-"
      },
      "execution_count": null,
      "outputs": []
    },
    {
      "cell_type": "markdown",
      "source": [
        "# **RIDGE REGRESSION**"
      ],
      "metadata": {
        "id": "YTZO2Vu-sbSZ"
      }
    },
    {
      "cell_type": "code",
      "source": [
        "from sklearn.linear_model import Ridge\n",
        "from sklearn.model_selection import GridSearchCV"
      ],
      "metadata": {
        "id": "hvSMKMCAsoTc"
      },
      "execution_count": null,
      "outputs": []
    },
    {
      "cell_type": "code",
      "source": [
        "ridge=Ridge() #creating object"
      ],
      "metadata": {
        "id": "0jGBJ2cotNH4"
      },
      "execution_count": null,
      "outputs": []
    },
    {
      "cell_type": "code",
      "source": [
        "Parameters={'alpha':[1e-15,1e-10,1e-8,1e-3,1e-2,1,5,10,20,30,35,40,45,50,60,80]}\n",
        "RidgeCV=GridSearchCV(ridge,Parameters,scoring='neg_mean_squared_error',cv=5)\n",
        "RidgeCV.fit(X_train,Y_train)"
      ],
      "metadata": {
        "colab": {
          "base_uri": "https://localhost:8080/",
          "height": 117
        },
        "id": "-nCvMRIOtZIr",
        "outputId": "1fe6945f-97c0-4a61-b953-a6f64ed755d1"
      },
      "execution_count": null,
      "outputs": [
        {
          "output_type": "execute_result",
          "data": {
            "text/plain": [
              "GridSearchCV(cv=5, estimator=Ridge(),\n",
              "             param_grid={'alpha': [1e-15, 1e-10, 1e-08, 0.001, 0.01, 1, 5, 10,\n",
              "                                   20, 30, 35, 40, 45, 50, 60, 80]},\n",
              "             scoring='neg_mean_squared_error')"
            ],
            "text/html": [
              "<style>#sk-container-id-4 {color: black;}#sk-container-id-4 pre{padding: 0;}#sk-container-id-4 div.sk-toggleable {background-color: white;}#sk-container-id-4 label.sk-toggleable__label {cursor: pointer;display: block;width: 100%;margin-bottom: 0;padding: 0.3em;box-sizing: border-box;text-align: center;}#sk-container-id-4 label.sk-toggleable__label-arrow:before {content: \"▸\";float: left;margin-right: 0.25em;color: #696969;}#sk-container-id-4 label.sk-toggleable__label-arrow:hover:before {color: black;}#sk-container-id-4 div.sk-estimator:hover label.sk-toggleable__label-arrow:before {color: black;}#sk-container-id-4 div.sk-toggleable__content {max-height: 0;max-width: 0;overflow: hidden;text-align: left;background-color: #f0f8ff;}#sk-container-id-4 div.sk-toggleable__content pre {margin: 0.2em;color: black;border-radius: 0.25em;background-color: #f0f8ff;}#sk-container-id-4 input.sk-toggleable__control:checked~div.sk-toggleable__content {max-height: 200px;max-width: 100%;overflow: auto;}#sk-container-id-4 input.sk-toggleable__control:checked~label.sk-toggleable__label-arrow:before {content: \"▾\";}#sk-container-id-4 div.sk-estimator input.sk-toggleable__control:checked~label.sk-toggleable__label {background-color: #d4ebff;}#sk-container-id-4 div.sk-label input.sk-toggleable__control:checked~label.sk-toggleable__label {background-color: #d4ebff;}#sk-container-id-4 input.sk-hidden--visually {border: 0;clip: rect(1px 1px 1px 1px);clip: rect(1px, 1px, 1px, 1px);height: 1px;margin: -1px;overflow: hidden;padding: 0;position: absolute;width: 1px;}#sk-container-id-4 div.sk-estimator {font-family: monospace;background-color: #f0f8ff;border: 1px dotted black;border-radius: 0.25em;box-sizing: border-box;margin-bottom: 0.5em;}#sk-container-id-4 div.sk-estimator:hover {background-color: #d4ebff;}#sk-container-id-4 div.sk-parallel-item::after {content: \"\";width: 100%;border-bottom: 1px solid gray;flex-grow: 1;}#sk-container-id-4 div.sk-label:hover label.sk-toggleable__label {background-color: #d4ebff;}#sk-container-id-4 div.sk-serial::before {content: \"\";position: absolute;border-left: 1px solid gray;box-sizing: border-box;top: 0;bottom: 0;left: 50%;z-index: 0;}#sk-container-id-4 div.sk-serial {display: flex;flex-direction: column;align-items: center;background-color: white;padding-right: 0.2em;padding-left: 0.2em;position: relative;}#sk-container-id-4 div.sk-item {position: relative;z-index: 1;}#sk-container-id-4 div.sk-parallel {display: flex;align-items: stretch;justify-content: center;background-color: white;position: relative;}#sk-container-id-4 div.sk-item::before, #sk-container-id-4 div.sk-parallel-item::before {content: \"\";position: absolute;border-left: 1px solid gray;box-sizing: border-box;top: 0;bottom: 0;left: 50%;z-index: -1;}#sk-container-id-4 div.sk-parallel-item {display: flex;flex-direction: column;z-index: 1;position: relative;background-color: white;}#sk-container-id-4 div.sk-parallel-item:first-child::after {align-self: flex-end;width: 50%;}#sk-container-id-4 div.sk-parallel-item:last-child::after {align-self: flex-start;width: 50%;}#sk-container-id-4 div.sk-parallel-item:only-child::after {width: 0;}#sk-container-id-4 div.sk-dashed-wrapped {border: 1px dashed gray;margin: 0 0.4em 0.5em 0.4em;box-sizing: border-box;padding-bottom: 0.4em;background-color: white;}#sk-container-id-4 div.sk-label label {font-family: monospace;font-weight: bold;display: inline-block;line-height: 1.2em;}#sk-container-id-4 div.sk-label-container {text-align: center;}#sk-container-id-4 div.sk-container {/* jupyter's `normalize.less` sets `[hidden] { display: none; }` but bootstrap.min.css set `[hidden] { display: none !important; }` so we also need the `!important` here to be able to override the default hidden behavior on the sphinx rendered scikit-learn.org. See: https://github.com/scikit-learn/scikit-learn/issues/21755 */display: inline-block !important;position: relative;}#sk-container-id-4 div.sk-text-repr-fallback {display: none;}</style><div id=\"sk-container-id-4\" class=\"sk-top-container\"><div class=\"sk-text-repr-fallback\"><pre>GridSearchCV(cv=5, estimator=Ridge(),\n",
              "             param_grid={&#x27;alpha&#x27;: [1e-15, 1e-10, 1e-08, 0.001, 0.01, 1, 5, 10,\n",
              "                                   20, 30, 35, 40, 45, 50, 60, 80]},\n",
              "             scoring=&#x27;neg_mean_squared_error&#x27;)</pre><b>In a Jupyter environment, please rerun this cell to show the HTML representation or trust the notebook. <br />On GitHub, the HTML representation is unable to render, please try loading this page with nbviewer.org.</b></div><div class=\"sk-container\" hidden><div class=\"sk-item sk-dashed-wrapped\"><div class=\"sk-label-container\"><div class=\"sk-label sk-toggleable\"><input class=\"sk-toggleable__control sk-hidden--visually\" id=\"sk-estimator-id-8\" type=\"checkbox\" ><label for=\"sk-estimator-id-8\" class=\"sk-toggleable__label sk-toggleable__label-arrow\">GridSearchCV</label><div class=\"sk-toggleable__content\"><pre>GridSearchCV(cv=5, estimator=Ridge(),\n",
              "             param_grid={&#x27;alpha&#x27;: [1e-15, 1e-10, 1e-08, 0.001, 0.01, 1, 5, 10,\n",
              "                                   20, 30, 35, 40, 45, 50, 60, 80]},\n",
              "             scoring=&#x27;neg_mean_squared_error&#x27;)</pre></div></div></div><div class=\"sk-parallel\"><div class=\"sk-parallel-item\"><div class=\"sk-item\"><div class=\"sk-label-container\"><div class=\"sk-label sk-toggleable\"><input class=\"sk-toggleable__control sk-hidden--visually\" id=\"sk-estimator-id-9\" type=\"checkbox\" ><label for=\"sk-estimator-id-9\" class=\"sk-toggleable__label sk-toggleable__label-arrow\">estimator: Ridge</label><div class=\"sk-toggleable__content\"><pre>Ridge()</pre></div></div></div><div class=\"sk-serial\"><div class=\"sk-item\"><div class=\"sk-estimator sk-toggleable\"><input class=\"sk-toggleable__control sk-hidden--visually\" id=\"sk-estimator-id-10\" type=\"checkbox\" ><label for=\"sk-estimator-id-10\" class=\"sk-toggleable__label sk-toggleable__label-arrow\">Ridge</label><div class=\"sk-toggleable__content\"><pre>Ridge()</pre></div></div></div></div></div></div></div></div></div></div>"
            ]
          },
          "metadata": {},
          "execution_count": 63
        }
      ]
    },
    {
      "cell_type": "code",
      "source": [
        "print(RidgeCV.best_params_)\n",
        "print(RidgeCV.best_score_)"
      ],
      "metadata": {
        "colab": {
          "base_uri": "https://localhost:8080/"
        },
        "id": "FawKWd7D10st",
        "outputId": "0f405500-f187-4d8a-8b9e-e6cb1608f930"
      },
      "execution_count": null,
      "outputs": [
        {
          "output_type": "stream",
          "name": "stdout",
          "text": [
            "{'alpha': 1}\n",
            "-0.5369044501253424\n"
          ]
        }
      ]
    },
    {
      "cell_type": "code",
      "source": [
        "RidgeCV.predict(X_test)"
      ],
      "metadata": {
        "colab": {
          "base_uri": "https://localhost:8080/"
        },
        "id": "GXefyp6w2_5Q",
        "outputId": "968cd7f8-2df8-4344-f59c-44e135799828"
      },
      "execution_count": null,
      "outputs": [
        {
          "output_type": "execute_result",
          "data": {
            "text/plain": [
              "array([1.32766653, 2.72121792, 2.68765652, ..., 1.08917433, 2.71450827,\n",
              "       0.86208432])"
            ]
          },
          "metadata": {},
          "execution_count": 65
        }
      ]
    },
    {
      "cell_type": "code",
      "source": [
        "Ridge_pred=RidgeCV.predict(X_test)"
      ],
      "metadata": {
        "id": "JvuK5vqI3Szt"
      },
      "execution_count": null,
      "outputs": []
    },
    {
      "cell_type": "code",
      "source": [
        "# measuring R2 score and RMSE\n",
        "print(\"R2 score\", r2_score(Y_test,Ridge_pred))"
      ],
      "metadata": {
        "colab": {
          "base_uri": "https://localhost:8080/"
        },
        "id": "pVJPpfQWZ2nh",
        "outputId": "06021de6-dcc5-4873-cb1a-bb9527675f57"
      },
      "execution_count": null,
      "outputs": [
        {
          "output_type": "stream",
          "name": "stdout",
          "text": [
            "R2 score 0.602319358481805\n"
          ]
        }
      ]
    },
    {
      "cell_type": "code",
      "source": [
        "print(\"RMSE:\", np.sqrt(mean_squared_error(Y_test,Ridge_pred)))"
      ],
      "metadata": {
        "colab": {
          "base_uri": "https://localhost:8080/"
        },
        "id": "ynOfjCUHagGF",
        "outputId": "68880aa3-58eb-4e2b-f8bc-702127b5bf70"
      },
      "execution_count": null,
      "outputs": [
        {
          "output_type": "stream",
          "name": "stdout",
          "text": [
            "RMSE: 0.7074928665496835\n"
          ]
        }
      ]
    },
    {
      "cell_type": "markdown",
      "source": [
        "# **LASSO REGRESSION**"
      ],
      "metadata": {
        "id": "kbNLD-vv6o3W"
      }
    },
    {
      "cell_type": "code",
      "source": [
        "from sklearn.linear_model import Lasso"
      ],
      "metadata": {
        "id": "kxK1YANH62tF"
      },
      "execution_count": null,
      "outputs": []
    },
    {
      "cell_type": "code",
      "source": [
        "lasso=Lasso()"
      ],
      "metadata": {
        "id": "HP53w7sU8OK8"
      },
      "execution_count": null,
      "outputs": []
    },
    {
      "cell_type": "code",
      "source": [
        "Parameters={'alpha':[1e-15,1e-10,1e-8,1e-3,1e-2,1,5,10,20,30,35,40,45,50,60,80]}\n",
        "lassoCV=GridSearchCV(lasso,Parameters,scoring='neg_mean_squared_error',cv=5)\n",
        "lassoCV.fit(X_train,Y_train)"
      ],
      "metadata": {
        "colab": {
          "base_uri": "https://localhost:8080/",
          "height": 241
        },
        "id": "odOfDRIG8RWv",
        "outputId": "d189e3d7-fd97-4813-df6d-47cf9ad2cab9"
      },
      "execution_count": null,
      "outputs": [
        {
          "output_type": "stream",
          "name": "stderr",
          "text": [
            "/usr/local/lib/python3.10/dist-packages/sklearn/linear_model/_coordinate_descent.py:628: ConvergenceWarning: Objective did not converge. You might want to increase the number of iterations, check the scale of the features or consider increasing regularisation. Duality gap: 1.804e+02, tolerance: 1.784e+00\n",
            "  model = cd_fast.enet_coordinate_descent(\n",
            "/usr/local/lib/python3.10/dist-packages/sklearn/linear_model/_coordinate_descent.py:628: ConvergenceWarning: Objective did not converge. You might want to increase the number of iterations, check the scale of the features or consider increasing regularisation. Duality gap: 1.623e+02, tolerance: 1.795e+00\n",
            "  model = cd_fast.enet_coordinate_descent(\n",
            "/usr/local/lib/python3.10/dist-packages/sklearn/linear_model/_coordinate_descent.py:628: ConvergenceWarning: Objective did not converge. You might want to increase the number of iterations, check the scale of the features or consider increasing regularisation. Duality gap: 1.044e+02, tolerance: 1.791e+00\n",
            "  model = cd_fast.enet_coordinate_descent(\n"
          ]
        },
        {
          "output_type": "execute_result",
          "data": {
            "text/plain": [
              "GridSearchCV(cv=5, estimator=Lasso(),\n",
              "             param_grid={'alpha': [1e-15, 1e-10, 1e-08, 0.001, 0.01, 1, 5, 10,\n",
              "                                   20, 30, 35, 40, 45, 50, 60, 80]},\n",
              "             scoring='neg_mean_squared_error')"
            ],
            "text/html": [
              "<style>#sk-container-id-5 {color: black;}#sk-container-id-5 pre{padding: 0;}#sk-container-id-5 div.sk-toggleable {background-color: white;}#sk-container-id-5 label.sk-toggleable__label {cursor: pointer;display: block;width: 100%;margin-bottom: 0;padding: 0.3em;box-sizing: border-box;text-align: center;}#sk-container-id-5 label.sk-toggleable__label-arrow:before {content: \"▸\";float: left;margin-right: 0.25em;color: #696969;}#sk-container-id-5 label.sk-toggleable__label-arrow:hover:before {color: black;}#sk-container-id-5 div.sk-estimator:hover label.sk-toggleable__label-arrow:before {color: black;}#sk-container-id-5 div.sk-toggleable__content {max-height: 0;max-width: 0;overflow: hidden;text-align: left;background-color: #f0f8ff;}#sk-container-id-5 div.sk-toggleable__content pre {margin: 0.2em;color: black;border-radius: 0.25em;background-color: #f0f8ff;}#sk-container-id-5 input.sk-toggleable__control:checked~div.sk-toggleable__content {max-height: 200px;max-width: 100%;overflow: auto;}#sk-container-id-5 input.sk-toggleable__control:checked~label.sk-toggleable__label-arrow:before {content: \"▾\";}#sk-container-id-5 div.sk-estimator input.sk-toggleable__control:checked~label.sk-toggleable__label {background-color: #d4ebff;}#sk-container-id-5 div.sk-label input.sk-toggleable__control:checked~label.sk-toggleable__label {background-color: #d4ebff;}#sk-container-id-5 input.sk-hidden--visually {border: 0;clip: rect(1px 1px 1px 1px);clip: rect(1px, 1px, 1px, 1px);height: 1px;margin: -1px;overflow: hidden;padding: 0;position: absolute;width: 1px;}#sk-container-id-5 div.sk-estimator {font-family: monospace;background-color: #f0f8ff;border: 1px dotted black;border-radius: 0.25em;box-sizing: border-box;margin-bottom: 0.5em;}#sk-container-id-5 div.sk-estimator:hover {background-color: #d4ebff;}#sk-container-id-5 div.sk-parallel-item::after {content: \"\";width: 100%;border-bottom: 1px solid gray;flex-grow: 1;}#sk-container-id-5 div.sk-label:hover label.sk-toggleable__label {background-color: #d4ebff;}#sk-container-id-5 div.sk-serial::before {content: \"\";position: absolute;border-left: 1px solid gray;box-sizing: border-box;top: 0;bottom: 0;left: 50%;z-index: 0;}#sk-container-id-5 div.sk-serial {display: flex;flex-direction: column;align-items: center;background-color: white;padding-right: 0.2em;padding-left: 0.2em;position: relative;}#sk-container-id-5 div.sk-item {position: relative;z-index: 1;}#sk-container-id-5 div.sk-parallel {display: flex;align-items: stretch;justify-content: center;background-color: white;position: relative;}#sk-container-id-5 div.sk-item::before, #sk-container-id-5 div.sk-parallel-item::before {content: \"\";position: absolute;border-left: 1px solid gray;box-sizing: border-box;top: 0;bottom: 0;left: 50%;z-index: -1;}#sk-container-id-5 div.sk-parallel-item {display: flex;flex-direction: column;z-index: 1;position: relative;background-color: white;}#sk-container-id-5 div.sk-parallel-item:first-child::after {align-self: flex-end;width: 50%;}#sk-container-id-5 div.sk-parallel-item:last-child::after {align-self: flex-start;width: 50%;}#sk-container-id-5 div.sk-parallel-item:only-child::after {width: 0;}#sk-container-id-5 div.sk-dashed-wrapped {border: 1px dashed gray;margin: 0 0.4em 0.5em 0.4em;box-sizing: border-box;padding-bottom: 0.4em;background-color: white;}#sk-container-id-5 div.sk-label label {font-family: monospace;font-weight: bold;display: inline-block;line-height: 1.2em;}#sk-container-id-5 div.sk-label-container {text-align: center;}#sk-container-id-5 div.sk-container {/* jupyter's `normalize.less` sets `[hidden] { display: none; }` but bootstrap.min.css set `[hidden] { display: none !important; }` so we also need the `!important` here to be able to override the default hidden behavior on the sphinx rendered scikit-learn.org. See: https://github.com/scikit-learn/scikit-learn/issues/21755 */display: inline-block !important;position: relative;}#sk-container-id-5 div.sk-text-repr-fallback {display: none;}</style><div id=\"sk-container-id-5\" class=\"sk-top-container\"><div class=\"sk-text-repr-fallback\"><pre>GridSearchCV(cv=5, estimator=Lasso(),\n",
              "             param_grid={&#x27;alpha&#x27;: [1e-15, 1e-10, 1e-08, 0.001, 0.01, 1, 5, 10,\n",
              "                                   20, 30, 35, 40, 45, 50, 60, 80]},\n",
              "             scoring=&#x27;neg_mean_squared_error&#x27;)</pre><b>In a Jupyter environment, please rerun this cell to show the HTML representation or trust the notebook. <br />On GitHub, the HTML representation is unable to render, please try loading this page with nbviewer.org.</b></div><div class=\"sk-container\" hidden><div class=\"sk-item sk-dashed-wrapped\"><div class=\"sk-label-container\"><div class=\"sk-label sk-toggleable\"><input class=\"sk-toggleable__control sk-hidden--visually\" id=\"sk-estimator-id-11\" type=\"checkbox\" ><label for=\"sk-estimator-id-11\" class=\"sk-toggleable__label sk-toggleable__label-arrow\">GridSearchCV</label><div class=\"sk-toggleable__content\"><pre>GridSearchCV(cv=5, estimator=Lasso(),\n",
              "             param_grid={&#x27;alpha&#x27;: [1e-15, 1e-10, 1e-08, 0.001, 0.01, 1, 5, 10,\n",
              "                                   20, 30, 35, 40, 45, 50, 60, 80]},\n",
              "             scoring=&#x27;neg_mean_squared_error&#x27;)</pre></div></div></div><div class=\"sk-parallel\"><div class=\"sk-parallel-item\"><div class=\"sk-item\"><div class=\"sk-label-container\"><div class=\"sk-label sk-toggleable\"><input class=\"sk-toggleable__control sk-hidden--visually\" id=\"sk-estimator-id-12\" type=\"checkbox\" ><label for=\"sk-estimator-id-12\" class=\"sk-toggleable__label sk-toggleable__label-arrow\">estimator: Lasso</label><div class=\"sk-toggleable__content\"><pre>Lasso()</pre></div></div></div><div class=\"sk-serial\"><div class=\"sk-item\"><div class=\"sk-estimator sk-toggleable\"><input class=\"sk-toggleable__control sk-hidden--visually\" id=\"sk-estimator-id-13\" type=\"checkbox\" ><label for=\"sk-estimator-id-13\" class=\"sk-toggleable__label sk-toggleable__label-arrow\">Lasso</label><div class=\"sk-toggleable__content\"><pre>Lasso()</pre></div></div></div></div></div></div></div></div></div></div>"
            ]
          },
          "metadata": {},
          "execution_count": 71
        }
      ]
    },
    {
      "cell_type": "code",
      "source": [
        "print(lassoCV.best_params_)\n",
        "print(lassoCV.best_score_)"
      ],
      "metadata": {
        "colab": {
          "base_uri": "https://localhost:8080/"
        },
        "id": "F8eWELKD9Oi0",
        "outputId": "47fa69b6-ede0-4ee3-d5e2-2436d296d960"
      },
      "execution_count": null,
      "outputs": [
        {
          "output_type": "stream",
          "name": "stdout",
          "text": [
            "{'alpha': 0.001}\n",
            "-0.5368229572136757\n"
          ]
        }
      ]
    },
    {
      "cell_type": "code",
      "source": [
        "lassoCV.predict(X_test)"
      ],
      "metadata": {
        "colab": {
          "base_uri": "https://localhost:8080/"
        },
        "id": "r8sKAXRR9XaM",
        "outputId": "53e21ff6-c7d2-47c6-d203-27188f0c340f"
      },
      "execution_count": null,
      "outputs": [
        {
          "output_type": "execute_result",
          "data": {
            "text/plain": [
              "array([1.33653211, 2.72584253, 2.67042374, ..., 1.09012171, 2.71531959,\n",
              "       0.86888931])"
            ]
          },
          "metadata": {},
          "execution_count": 73
        }
      ]
    },
    {
      "cell_type": "code",
      "source": [
        "lasso_pred=lassoCV.predict(X_test)"
      ],
      "metadata": {
        "id": "lpZvMBKn9vXF"
      },
      "execution_count": null,
      "outputs": []
    },
    {
      "cell_type": "code",
      "source": [
        "print(\"R2 score:\", r2_score(Y_test,Ridge_pred))"
      ],
      "metadata": {
        "colab": {
          "base_uri": "https://localhost:8080/"
        },
        "id": "0-IxZm2GZ50S",
        "outputId": "ec105a3a-3e15-479a-8464-6c54f7dbb67c"
      },
      "execution_count": null,
      "outputs": [
        {
          "output_type": "stream",
          "name": "stdout",
          "text": [
            "R2 score: 0.602319358481805\n"
          ]
        }
      ]
    },
    {
      "cell_type": "code",
      "source": [
        "print(\"RMSE:\", np.sqrt(mean_squared_error(Y_test,Ridge_pred)))"
      ],
      "metadata": {
        "colab": {
          "base_uri": "https://localhost:8080/"
        },
        "id": "ugEiTHZHbUPN",
        "outputId": "07ef5059-055a-4823-9c70-fee2a911e994"
      },
      "execution_count": null,
      "outputs": [
        {
          "output_type": "stream",
          "name": "stdout",
          "text": [
            "RMSE: 0.7074928665496835\n"
          ]
        }
      ]
    },
    {
      "cell_type": "markdown",
      "source": [
        "Q.1] Apply ridge and lasso regression on a different dataset like load_diabetes()\n",
        "\n",
        "Q.2]What is the use of GridSearchCV above?\n",
        "\n",
        "Q.3]In above code rather than using GridSearchCV use different values of alpha manually.\n"
      ],
      "metadata": {
        "id": "RyCsFJobnU23"
      }
    },
    {
      "cell_type": "code",
      "source": [
        "\n",
        "from sklearn.datasets import load_diabetes\n",
        "from sklearn.model_selection import train_test_split\n",
        "from sklearn.preprocessing import StandardScaler\n",
        "from sklearn.linear_model import Ridge, Lasso\n",
        "from sklearn.metrics import mean_squared_error, r2_score\n",
        "\n",
        "\n",
        "data = load_diabetes()\n",
        "X, y = data.data, data.target\n",
        "\n",
        "\n",
        "X_train, X_test, y_train, y_test = train_test_split(X, y, test_size=0.2, random_state=42)\n",
        "\n",
        "\n",
        "scaler = StandardScaler()\n",
        "X_train = scaler.fit_transform(X_train)\n",
        "X_test = scaler.transform(X_test)\n",
        "\n",
        "\n",
        "ridge = Ridge(alpha=1.0)\n",
        "ridge.fit(X_train, y_train)\n",
        "y_pred_ridge = ridge.predict(X_test)\n",
        "\n",
        "\n",
        "lasso = Lasso(alpha=0.1)\n",
        "lasso.fit(X_train, y_train)\n",
        "y_pred_lasso = lasso.predict(X_test)\n",
        "\n",
        "\n",
        "mse_ridge = mean_squared_error(y_test, y_pred_ridge)\n",
        "r2_ridge = r2_score(y_test, y_pred_ridge)\n",
        "\n",
        "mse_lasso = mean_squared_error(y_test, y_pred_lasso)\n",
        "r2_lasso = r2_score(y_test, y_pred_lasso)\n",
        "\n",
        "print(\"Ridge Regression - MSE:\", mse_ridge, \", R^2:\", r2_ridge)\n",
        "print(\"Lasso Regression - MSE:\", mse_lasso, \", R^2:\", r2_lasso)"
      ],
      "metadata": {
        "id": "zr5sVJZohaCZ",
        "outputId": "c998eaf2-c26a-444d-8e04-30de19c6f56f",
        "colab": {
          "base_uri": "https://localhost:8080/"
        }
      },
      "execution_count": 45,
      "outputs": [
        {
          "output_type": "stream",
          "name": "stdout",
          "text": [
            "Ridge Regression - MSE: 2892.0145657501726 , R^2: 0.45414652070698225\n",
            "Lasso Regression - MSE: 2884.6242887352123 , R^2: 0.45554139902790414\n"
          ]
        }
      ]
    },
    {
      "cell_type": "markdown",
      "source": [
        "GridSearchCV is a tool in sklearn used to perform hyperparameter tuning by searching over a specified grid of hyperparameter values. It automates the process of trying different combinations of hyperparameters to find the best set for a model, which ultimately helps in improving the model’s performance.\n",
        "\n",
        "For models like Ridge and Lasso regression, hyperparameters like alpha (regularization strength) significantly impact the model’s performance. Manually trying different values for alpha can be time-consuming, and there is no guarantee that you’re testing the best set of values. GridSearchCV helps by:\n",
        "\n",
        "Systematically searching for the best hyperparameters over a defined parameter grid. Performing cross-validation for each parameter combination to evaluate the model’s performance, providing a more robust estimate of how the model will perform on unseen data."
      ],
      "metadata": {
        "id": "AViILPDMh3Xg"
      }
    },
    {
      "cell_type": "code",
      "source": [
        "\n",
        "from sklearn.datasets import load_diabetes\n",
        "from sklearn.model_selection import train_test_split\n",
        "from sklearn.preprocessing import StandardScaler\n",
        "from sklearn.linear_model import Ridge, Lasso\n",
        "from sklearn.metrics import mean_squared_error, r2_score\n",
        "\n",
        "\n",
        "data = load_diabetes()\n",
        "X, y = data.data, data.target\n",
        "\n",
        "\n",
        "X_train, X_test, y_train, y_test = train_test_split(X, y, test_size=0.2, random_state=42)\n",
        "\n",
        "\n",
        "scaler = StandardScaler()\n",
        "X_train = scaler.fit_transform(X_train)\n",
        "X_test = scaler.transform(X_test)\n",
        "\n",
        "\n",
        "alpha_values = [0.001, 0.01, 0.1, 1, 10, 100]\n",
        "\n",
        "\n",
        "ridge_results = []\n",
        "lasso_results = []\n",
        "\n",
        "\n",
        "print(\"Ridge Regression Results:\")\n",
        "for alpha in alpha_values:\n",
        "    ridge = Ridge(alpha=alpha)\n",
        "    ridge.fit(X_train, y_train)\n",
        "    y_pred_ridge = ridge.predict(X_test)\n",
        "\n",
        "    mse_ridge = mean_squared_error(y_test, y_pred_ridge)\n",
        "    r2_ridge = r2_score(y_test, y_pred_ridge)\n",
        "\n",
        "    ridge_results.append((alpha, mse_ridge, r2_ridge))\n",
        "    print(f\"Alpha: {alpha}, MSE: {mse_ridge:.4f}, R^2: {r2_ridge:.4f}\")\n",
        "\n",
        "\n",
        "print(\"\\nLasso Regression Results:\")\n",
        "for alpha in alpha_values:\n",
        "    lasso = Lasso(alpha=alpha)\n",
        "    lasso.fit(X_train, y_train)\n",
        "    y_pred_lasso = lasso.predict(X_test)\n",
        "\n",
        "    mse_lasso = mean_squared_error(y_test, y_pred_lasso)\n",
        "    r2_lasso = r2_score(y_test, y_pred_lasso)\n",
        "\n",
        "    lasso_results.append((alpha, mse_lasso, r2_lasso))\n",
        "    print(f\"Alpha: {alpha}, MSE: {mse_lasso:.4f}, R^2: {r2_lasso:.4f}\")\n",
        "\n",
        "# Best performing alpha value based on MSE\n",
        "best_ridge_alpha = min(ridge_results, key=lambda x: x[1])[0]\n",
        "best_lasso_alpha = min(lasso_results, key=lambda x: x[1])[0]\n",
        "\n",
        "print(f\"\\nBest alpha for Ridge based on MSE: {best_ridge_alpha}\")\n",
        "print(f\"Best alpha for Lasso based on MSE: {best_lasso_alpha}\")"
      ],
      "metadata": {
        "id": "8J7N9zaKhaIg"
      },
      "execution_count": null,
      "outputs": []
    }
  ]
}